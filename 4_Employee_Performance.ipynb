{
 "cells": [
  {
   "cell_type": "markdown",
   "metadata": {},
   "source": [
    "# Question 4 - Employee Performance"
   ]
  },
  {
   "cell_type": "markdown",
   "metadata": {},
   "source": [
    "## Define Question"
   ]
  },
  {
   "cell_type": "markdown",
   "metadata": {},
   "source": [
    "Northwind employs a sales team to facilitate global trade. Profitability is dependent on the quality of the sales team. There are two obvious ways to measure employee performance: average gross revenue and total number of orders in a given timeframe. In this document, I compare employee performance based on average annual gross revenue and total orders.\n",
    "\n",
    "\n",
    "> Is there a statistically significant difference in the average annual gross revenue between employees?"
   ]
  },
  {
   "cell_type": "markdown",
   "metadata": {},
   "source": [
    "## State Hypothesis"
   ]
  },
  {
   "cell_type": "markdown",
   "metadata": {},
   "source": [
    "**Null Hypothesis**: There is no difference in the average gross revenue per order between employees. \n",
    "\n",
    "> $H_{o}: \\mu_1 = \\mu_2 = ... = \\mu_n$ \n",
    "\n",
    "**Alternative Hypothesis**: There is a statistically significant difference in the average gross revenue per order between employees. \n",
    "\n",
    "> $H_{a}: \\mu_1 \\neq \\mu_i$ \n",
    "\n",
    "**Significance Level**: 95% confidence level\n",
    "\n",
    "> $\\alpha = .05$"
   ]
  },
  {
   "cell_type": "markdown",
   "metadata": {},
   "source": [
    "## Methodology"
   ]
  },
  {
   "cell_type": "markdown",
   "metadata": {},
   "source": [
    "I load my data and calculate gross revenue for each order in the dataframe. After examining my data, I remove the outliers that would skew my results. I then run an ANOVA test and a Tukey test to determine which employees bring in the highest average gross revenue."
   ]
  },
  {
   "cell_type": "markdown",
   "metadata": {},
   "source": [
    "## Import Libraries and Connect to Data Source"
   ]
  },
  {
   "cell_type": "code",
   "execution_count": 1,
   "metadata": {},
   "outputs": [],
   "source": [
    "import sqlite3\n",
    "import pandas as pd\n",
    "import numpy as np\n",
    "\n",
    "import matplotlib.pyplot as plt\n",
    "%matplotlib inline\n",
    "import seaborn as sns\n",
    "\n",
    "import statsmodels.api as sm\n",
    "import scipy.stats as stats\n",
    "from statsmodels.formula.api import ols\n",
    "\n",
    "#Personal stats functions\n",
    "from hypothesis_testing import bootstrap, boot_sampling_dist, remove_outliers, Cohen_d, create_sampling_distribution\n",
    "\n",
    "#For Tukey Test\n",
    "import itertools\n",
    "from statsmodels.stats.multicomp import pairwise_tukeyhsd\n",
    "from statsmodels.stats.multicomp import MultiComparison"
   ]
  },
  {
   "cell_type": "code",
   "execution_count": 2,
   "metadata": {},
   "outputs": [],
   "source": [
    "conn = sqlite3.connect('northwind_small.sqlite')\n",
    "c = conn.cursor()"
   ]
  },
  {
   "cell_type": "markdown",
   "metadata": {},
   "source": [
    "## Obtain Data"
   ]
  },
  {
   "cell_type": "code",
   "execution_count": 3,
   "metadata": {},
   "outputs": [
    {
     "data": {
      "text/html": [
       "<div>\n",
       "<style scoped>\n",
       "    .dataframe tbody tr th:only-of-type {\n",
       "        vertical-align: middle;\n",
       "    }\n",
       "\n",
       "    .dataframe tbody tr th {\n",
       "        vertical-align: top;\n",
       "    }\n",
       "\n",
       "    .dataframe thead th {\n",
       "        text-align: right;\n",
       "    }\n",
       "</style>\n",
       "<table border=\"1\" class=\"dataframe\">\n",
       "  <thead>\n",
       "    <tr style=\"text-align: right;\">\n",
       "      <th></th>\n",
       "      <th>Name</th>\n",
       "      <th>Title</th>\n",
       "      <th>EmployeeID</th>\n",
       "      <th>TotalOrders</th>\n",
       "      <th>GrossRevenue</th>\n",
       "      <th>AveGrossRevPerOrder</th>\n",
       "    </tr>\n",
       "  </thead>\n",
       "  <tbody>\n",
       "    <tr>\n",
       "      <th>0</th>\n",
       "      <td>Nancy Davolio</td>\n",
       "      <td>Sales Representative</td>\n",
       "      <td>1</td>\n",
       "      <td>123</td>\n",
       "      <td>192107.6045</td>\n",
       "      <td>24.591347</td>\n",
       "    </tr>\n",
       "    <tr>\n",
       "      <th>1</th>\n",
       "      <td>Andrew Fuller</td>\n",
       "      <td>Vice President, Sales</td>\n",
       "      <td>2</td>\n",
       "      <td>96</td>\n",
       "      <td>166537.7550</td>\n",
       "      <td>27.504171</td>\n",
       "    </tr>\n",
       "    <tr>\n",
       "      <th>2</th>\n",
       "      <td>Janet Leverling</td>\n",
       "      <td>Sales Representative</td>\n",
       "      <td>3</td>\n",
       "      <td>127</td>\n",
       "      <td>202812.8430</td>\n",
       "      <td>25.829450</td>\n",
       "    </tr>\n",
       "    <tr>\n",
       "      <th>3</th>\n",
       "      <td>Margaret Peacock</td>\n",
       "      <td>Sales Representative</td>\n",
       "      <td>4</td>\n",
       "      <td>156</td>\n",
       "      <td>232890.8460</td>\n",
       "      <td>23.769223</td>\n",
       "    </tr>\n",
       "    <tr>\n",
       "      <th>4</th>\n",
       "      <td>Steven Buchanan</td>\n",
       "      <td>Sales Manager</td>\n",
       "      <td>5</td>\n",
       "      <td>42</td>\n",
       "      <td>68792.2825</td>\n",
       "      <td>22.658855</td>\n",
       "    </tr>\n",
       "    <tr>\n",
       "      <th>5</th>\n",
       "      <td>Michael Suyama</td>\n",
       "      <td>Sales Representative</td>\n",
       "      <td>6</td>\n",
       "      <td>67</td>\n",
       "      <td>73913.1295</td>\n",
       "      <td>20.956374</td>\n",
       "    </tr>\n",
       "    <tr>\n",
       "      <th>6</th>\n",
       "      <td>Robert King</td>\n",
       "      <td>Sales Representative</td>\n",
       "      <td>7</td>\n",
       "      <td>72</td>\n",
       "      <td>124568.2350</td>\n",
       "      <td>26.765843</td>\n",
       "    </tr>\n",
       "    <tr>\n",
       "      <th>7</th>\n",
       "      <td>Laura Callahan</td>\n",
       "      <td>Inside Sales Coordinator</td>\n",
       "      <td>8</td>\n",
       "      <td>104</td>\n",
       "      <td>126862.2775</td>\n",
       "      <td>21.454808</td>\n",
       "    </tr>\n",
       "    <tr>\n",
       "      <th>8</th>\n",
       "      <td>Anne Dodsworth</td>\n",
       "      <td>Sales Representative</td>\n",
       "      <td>9</td>\n",
       "      <td>43</td>\n",
       "      <td>77308.0665</td>\n",
       "      <td>28.954332</td>\n",
       "    </tr>\n",
       "  </tbody>\n",
       "</table>\n",
       "</div>"
      ],
      "text/plain": [
       "               Name                     Title  EmployeeID  TotalOrders  \\\n",
       "0     Nancy Davolio      Sales Representative           1          123   \n",
       "1     Andrew Fuller     Vice President, Sales           2           96   \n",
       "2   Janet Leverling      Sales Representative           3          127   \n",
       "3  Margaret Peacock      Sales Representative           4          156   \n",
       "4   Steven Buchanan             Sales Manager           5           42   \n",
       "5    Michael Suyama      Sales Representative           6           67   \n",
       "6       Robert King      Sales Representative           7           72   \n",
       "7    Laura Callahan  Inside Sales Coordinator           8          104   \n",
       "8    Anne Dodsworth      Sales Representative           9           43   \n",
       "\n",
       "   GrossRevenue  AveGrossRevPerOrder  \n",
       "0   192107.6045            24.591347  \n",
       "1   166537.7550            27.504171  \n",
       "2   202812.8430            25.829450  \n",
       "3   232890.8460            23.769223  \n",
       "4    68792.2825            22.658855  \n",
       "5    73913.1295            20.956374  \n",
       "6   124568.2350            26.765843  \n",
       "7   126862.2775            21.454808  \n",
       "8    77308.0665            28.954332  "
      ]
     },
     "execution_count": 3,
     "metadata": {},
     "output_type": "execute_result"
    }
   ],
   "source": [
    "# Visualize summary statistics for employees\n",
    "emp_query = \"\"\"SELECT printf('%s %s', e.FirstName, e.LastName) AS Name, \n",
    "                    e.Title, asdf.EmployeeID, asdf.TotalOrders, asdf.GrossRevenue, \n",
    "                    (asdf.GrossRevenue/asdf.TotalQuantity) AS AveGrossRevPerOrder\n",
    "                FROM (\n",
    "                    SELECT \n",
    "                        e.ID AS EmployeeID, o.OrderDate,\n",
    "                        SUM(od.Quantity) as TotalQuantity,\n",
    "                        SUM(od.Quantity*od.UnitPrice*(1-od.Discount)) as GrossRevenue,\n",
    "                        Count(Distinct OrderId) as TotalOrders\n",
    "                    FROM Employee e\n",
    "                    JOIN [Order] o\n",
    "                    ON e.ID == o.EmployeeId\n",
    "                    JOIN OrderDetail od \n",
    "                    ON o.Id == od.OrderId\n",
    "                    GROUP BY e.ID\n",
    "                    ) asdf\n",
    "                JOIN Employee e \n",
    "                ON EmployeeID == e.ID\n",
    "            \"\"\"\n",
    "employee_orders_df = pd.read_sql(emp_query, conn)\n",
    "employee_orders_df"
   ]
  },
  {
   "cell_type": "code",
   "execution_count": 4,
   "metadata": {},
   "outputs": [
    {
     "data": {
      "text/html": [
       "<div>\n",
       "<style scoped>\n",
       "    .dataframe tbody tr th:only-of-type {\n",
       "        vertical-align: middle;\n",
       "    }\n",
       "\n",
       "    .dataframe tbody tr th {\n",
       "        vertical-align: top;\n",
       "    }\n",
       "\n",
       "    .dataframe thead th {\n",
       "        text-align: right;\n",
       "    }\n",
       "</style>\n",
       "<table border=\"1\" class=\"dataframe\">\n",
       "  <thead>\n",
       "    <tr style=\"text-align: right;\">\n",
       "      <th></th>\n",
       "      <th>EmployeeId</th>\n",
       "      <th>Name</th>\n",
       "      <th>Title</th>\n",
       "      <th>OrderId</th>\n",
       "      <th>OrderQuantity</th>\n",
       "      <th>GrossRevenue</th>\n",
       "    </tr>\n",
       "  </thead>\n",
       "  <tbody>\n",
       "    <tr>\n",
       "      <th>0</th>\n",
       "      <td>1</td>\n",
       "      <td>Nancy Davolio</td>\n",
       "      <td>Sales Representative</td>\n",
       "      <td>10258</td>\n",
       "      <td>121</td>\n",
       "      <td>1614.88</td>\n",
       "    </tr>\n",
       "    <tr>\n",
       "      <th>1</th>\n",
       "      <td>1</td>\n",
       "      <td>Nancy Davolio</td>\n",
       "      <td>Sales Representative</td>\n",
       "      <td>10270</td>\n",
       "      <td>55</td>\n",
       "      <td>1376.00</td>\n",
       "    </tr>\n",
       "    <tr>\n",
       "      <th>2</th>\n",
       "      <td>1</td>\n",
       "      <td>Nancy Davolio</td>\n",
       "      <td>Sales Representative</td>\n",
       "      <td>10275</td>\n",
       "      <td>18</td>\n",
       "      <td>291.84</td>\n",
       "    </tr>\n",
       "    <tr>\n",
       "      <th>3</th>\n",
       "      <td>1</td>\n",
       "      <td>Nancy Davolio</td>\n",
       "      <td>Sales Representative</td>\n",
       "      <td>10285</td>\n",
       "      <td>121</td>\n",
       "      <td>1743.36</td>\n",
       "    </tr>\n",
       "    <tr>\n",
       "      <th>4</th>\n",
       "      <td>1</td>\n",
       "      <td>Nancy Davolio</td>\n",
       "      <td>Sales Representative</td>\n",
       "      <td>10292</td>\n",
       "      <td>20</td>\n",
       "      <td>1296.00</td>\n",
       "    </tr>\n",
       "  </tbody>\n",
       "</table>\n",
       "</div>"
      ],
      "text/plain": [
       "   EmployeeId           Name                 Title  OrderId  OrderQuantity  \\\n",
       "0           1  Nancy Davolio  Sales Representative    10258            121   \n",
       "1           1  Nancy Davolio  Sales Representative    10270             55   \n",
       "2           1  Nancy Davolio  Sales Representative    10275             18   \n",
       "3           1  Nancy Davolio  Sales Representative    10285            121   \n",
       "4           1  Nancy Davolio  Sales Representative    10292             20   \n",
       "\n",
       "   GrossRevenue  \n",
       "0       1614.88  \n",
       "1       1376.00  \n",
       "2        291.84  \n",
       "3       1743.36  \n",
       "4       1296.00  "
      ]
     },
     "metadata": {},
     "output_type": "display_data"
    },
    {
     "data": {
      "text/plain": [
       "4    156\n",
       "3    127\n",
       "1    123\n",
       "8    104\n",
       "2     96\n",
       "7     72\n",
       "6     67\n",
       "9     43\n",
       "5     42\n",
       "Name: EmployeeId, dtype: int64"
      ]
     },
     "execution_count": 4,
     "metadata": {},
     "output_type": "execute_result"
    }
   ],
   "source": [
    "# Create dataframe to work with\n",
    "query = \"\"\"SELECT o.EmployeeId, printf('%s %s', e.FirstName, e.LastName) AS Name, \n",
    "            e.Title, od.OrderId, \n",
    "            SUM(od.Quantity) AS OrderQuantity,\n",
    "            sum(UnitPrice * Quantity * (1-Discount)) AS GrossRevenue\n",
    "            FROM \n",
    "            OrderDetail od \n",
    "            JOIN 'Order' o ON o.Id=od.OrderId\n",
    "            JOIN Employee e ON e.Id=o.EmployeeId\n",
    "            GROUP BY od.OrderId\n",
    "            ORDER BY o.EmployeeId\n",
    "            \"\"\"\n",
    "emp_df = pd.read_sql(query,conn)\n",
    "display(emp_df.head())\n",
    "emp_df.EmployeeId.value_counts()"
   ]
  },
  {
   "cell_type": "markdown",
   "metadata": {},
   "source": [
    "## Scrub Data"
   ]
  },
  {
   "cell_type": "code",
   "execution_count": 5,
   "metadata": {},
   "outputs": [
    {
     "data": {
      "image/png": "[encoded data removed]",
      "text/plain": [
       "<Figure size 432x288 with 1 Axes>"
      ]
     },
     "metadata": {
      "needs_background": "light"
     },
     "output_type": "display_data"
    }
   ],
   "source": [
    "# Visualize mean gross revenue by employee with boxplots\n",
    "sns.boxplot(x='Name', y='GrossRevenue', \n",
    "            data=emp_df)\n",
    "plt.title('Gross Revenue by Employee')\n",
    "plt.xlabel('Name');\n",
    "plt.ylabel('Gross Revenue')\n",
    "plt.xticks(rotation='vertical')\n",
    "plt.show()"
   ]
  },
  {
   "cell_type": "markdown",
   "metadata": {},
   "source": [
    "Clearly there are some outliers to deal with."
   ]
  },
  {
   "cell_type": "code",
   "execution_count": 6,
   "metadata": {},
   "outputs": [
    {
     "data": {
      "text/plain": [
       "4    148\n",
       "3    120\n",
       "1    118\n",
       "8    102\n",
       "2     91\n",
       "6     67\n",
       "7     66\n",
       "5     40\n",
       "9     38\n",
       "Name: EmployeeId, dtype: int64"
      ]
     },
     "execution_count": 6,
     "metadata": {},
     "output_type": "execute_result"
    }
   ],
   "source": [
    "# Remove outliers from Gross Revenue\n",
    "emp_new_df = remove_outliers(emp_df, \"GrossRevenue\")\n",
    "emp_new_df.EmployeeId.value_counts()"
   ]
  },
  {
   "cell_type": "code",
   "execution_count": 7,
   "metadata": {},
   "outputs": [
    {
     "data": {
      "image/png": "[encoded data removed]",
      "text/plain": [
       "<Figure size 432x288 with 1 Axes>"
      ]
     },
     "metadata": {
      "needs_background": "light"
     },
     "output_type": "display_data"
    }
   ],
   "source": [
    "# Visualize mean gross revenue by employee without outliers with boxplots\n",
    "sns.boxplot(x='Name', y='GrossRevenue', \n",
    "            data=emp_new_df)\n",
    "plt.title('Gross Revenue by Employee')\n",
    "plt.xlabel('Name');\n",
    "plt.ylabel('Gross Revenue')\n",
    "plt.xticks(rotation='vertical')\n",
    "plt.show()"
   ]
  },
  {
   "cell_type": "markdown",
   "metadata": {},
   "source": [
    "## Hypothesis Testing"
   ]
  },
  {
   "cell_type": "markdown",
   "metadata": {},
   "source": [
    "Now that the outliers have been removed, I can begin my hypothesis testing. I want to compare all employees against each other. I use an **ANOVA Test** to compare the mean gross revenue across all employees. \n",
    "\n",
    "First I need to satisfy the **normality assumption**."
   ]
  },
  {
   "cell_type": "code",
   "execution_count": 8,
   "metadata": {},
   "outputs": [
    {
     "data": {
      "image/png": "[encoded data removed]",
      "text/plain": [
       "<Figure size 432x288 with 1 Axes>"
      ]
     },
     "metadata": {
      "needs_background": "light"
     },
     "output_type": "display_data"
    },
    {
     "data": {
      "image/png": "[encoded data removed]",
      "text/plain": [
       "<Figure size 432x288 with 1 Axes>"
      ]
     },
     "metadata": {
      "needs_background": "light"
     },
     "output_type": "display_data"
    },
    {
     "data": {
      "image/png": "[encoded data removed]",
      "text/plain": [
       "<Figure size 432x288 with 1 Axes>"
      ]
     },
     "metadata": {
      "needs_background": "light"
     },
     "output_type": "display_data"
    },
    {
     "data": {
      "image/png": "[encoded data removed]",
      "text/plain": [
       "<Figure size 432x288 with 1 Axes>"
      ]
     },
     "metadata": {
      "needs_background": "light"
     },
     "output_type": "display_data"
    },
    {
     "data": {
      "image/png": "[encoded data removed]",
      "text/plain": [
       "<Figure size 432x288 with 1 Axes>"
      ]
     },
     "metadata": {
      "needs_background": "light"
     },
     "output_type": "display_data"
    },
    {
     "data": {
      "image/png": "[encoded data removed]",
      "text/plain": [
       "<Figure size 432x288 with 1 Axes>"
      ]
     },
     "metadata": {
      "needs_background": "light"
     },
     "output_type": "display_data"
    },
    {
     "data": {
      "image/png": "[encoded data removed]",
      "text/plain": [
       "<Figure size 432x288 with 1 Axes>"
      ]
     },
     "metadata": {
      "needs_background": "light"
     },
     "output_type": "display_data"
    },
    {
     "data": {
      "image/png": "[encoded data removed]",
      "text/plain": [
       "<Figure size 432x288 with 1 Axes>"
      ]
     },
     "metadata": {
      "needs_background": "light"
     },
     "output_type": "display_data"
    },
    {
     "data": {
      "image/png": "[encoded data removed]",
      "text/plain": [
       "<Figure size 432x288 with 1 Axes>"
      ]
     },
     "metadata": {
      "needs_background": "light"
     },
     "output_type": "display_data"
    }
   ],
   "source": [
    "# Check normality for dataframe without outliers\n",
    "for emp in emp_new_df.EmployeeId.unique():\n",
    "    stats.probplot(emp_new_df.GrossRevenue, dist=\"norm\", plot=plt)\n",
    "    plt.title(\"Q-Q plot for Employee ID: {}\".format(emp))\n",
    "    plt.show()"
   ]
  },
  {
   "cell_type": "markdown",
   "metadata": {},
   "source": [
    "### Create Sampling Distributions"
   ]
  },
  {
   "cell_type": "markdown",
   "metadata": {},
   "source": [
    "The original data does not satisfy the normality assumption required for my hypothesis test. The sample sizes are also fairly small.\n",
    "\n",
    "To solve these challenges, I use a **sampling distribution**. According to the **Central Limit Theorem**, the distribution of sample means is normal regardless of the distribution of the actual population. "
   ]
  },
  {
   "cell_type": "code",
   "execution_count": 9,
   "metadata": {},
   "outputs": [
    {
     "data": {
      "text/plain": [
       "(790, 6)"
      ]
     },
     "execution_count": 9,
     "metadata": {},
     "output_type": "execute_result"
    }
   ],
   "source": [
    "emp_new_df.shape"
   ]
  },
  {
   "cell_type": "code",
   "execution_count": 10,
   "metadata": {},
   "outputs": [
    {
     "data": {
      "text/plain": [
       "array([1, 2, 3, 4, 5, 6, 7, 8, 9])"
      ]
     },
     "execution_count": 10,
     "metadata": {},
     "output_type": "execute_result"
    }
   ],
   "source": [
    "employee_orders_df.EmployeeID.values"
   ]
  },
  {
   "cell_type": "code",
   "execution_count": 20,
   "metadata": {},
   "outputs": [],
   "source": [
    "# Create the sampling distributions for every employee\n",
    "emp = []\n",
    "index = []\n",
    "gross_rev = []\n",
    "\n",
    "for employee in list(employee_orders_df.EmployeeID.values):\n",
    "    for i in range(0,30):\n",
    "        emp.append(employee)\n",
    "    a1 = list(emp_new_df.GrossRevenue[(emp_new_df.EmployeeId == employee)].values)\n",
    "    a2 = create_sampling_distribution(a1, 30, 30)\n",
    "    index.append(a2)\n",
    "\n",
    "for i in index:\n",
    "    for e in i:\n",
    "        gross_rev.append(e)\n",
    "c1 = list(emp_new_df.GrossRevenue.values)\n",
    "c2 = create_sampling_distribution(c1, 30, 30)\n"
   ]
  },
  {
   "cell_type": "code",
   "execution_count": 12,
   "metadata": {
    "scrolled": false
   },
   "outputs": [
    {
     "data": {
      "text/plain": [
       "270"
      ]
     },
     "metadata": {},
     "output_type": "display_data"
    },
    {
     "data": {
      "text/plain": [
       "270"
      ]
     },
     "metadata": {},
     "output_type": "display_data"
    },
    {
     "data": {
      "text/plain": [
       "9"
      ]
     },
     "metadata": {},
     "output_type": "display_data"
    },
    {
     "data": {
      "text/plain": [
       "270"
      ]
     },
     "metadata": {},
     "output_type": "display_data"
    }
   ],
   "source": [
    "display(len(emp))\n",
    "display(len(ord_pr))\n",
    "display(len(ordp))\n",
    "display(len(prices))"
   ]
  },
  {
   "cell_type": "code",
   "execution_count": 13,
   "metadata": {},
   "outputs": [
    {
     "data": {
      "text/plain": [
       "9"
      ]
     },
     "execution_count": 13,
     "metadata": {},
     "output_type": "execute_result"
    }
   ],
   "source": [
    "len(ordp)"
   ]
  },
  {
   "cell_type": "code",
   "execution_count": 21,
   "metadata": {},
   "outputs": [],
   "source": [
    "# Make a DataFrame of all sampling distributions\n",
    "samp_distributions = {}\n",
    "samp_distributions['EmpId'] = emp\n",
    "samp_distributions['Gross_Revenue'] = gross_rev\n",
    "samp_distributions_df = pd.DataFrame(samp_distributions)"
   ]
  },
  {
   "cell_type": "code",
   "execution_count": 15,
   "metadata": {
    "scrolled": true
   },
   "outputs": [
    {
     "data": {
      "text/html": [
       "<div>\n",
       "<style scoped>\n",
       "    .dataframe tbody tr th:only-of-type {\n",
       "        vertical-align: middle;\n",
       "    }\n",
       "\n",
       "    .dataframe tbody tr th {\n",
       "        vertical-align: top;\n",
       "    }\n",
       "\n",
       "    .dataframe thead th {\n",
       "        text-align: right;\n",
       "    }\n",
       "</style>\n",
       "<table border=\"1\" class=\"dataframe\">\n",
       "  <thead>\n",
       "    <tr style=\"text-align: right;\">\n",
       "      <th></th>\n",
       "      <th>EmpId</th>\n",
       "      <th>Gross_Revenue</th>\n",
       "    </tr>\n",
       "  </thead>\n",
       "  <tbody>\n",
       "    <tr>\n",
       "      <th>0</th>\n",
       "      <td>1</td>\n",
       "      <td>1559.713167</td>\n",
       "    </tr>\n",
       "    <tr>\n",
       "      <th>1</th>\n",
       "      <td>1</td>\n",
       "      <td>1334.622967</td>\n",
       "    </tr>\n",
       "    <tr>\n",
       "      <th>2</th>\n",
       "      <td>1</td>\n",
       "      <td>1392.337750</td>\n",
       "    </tr>\n",
       "    <tr>\n",
       "      <th>3</th>\n",
       "      <td>1</td>\n",
       "      <td>1442.128467</td>\n",
       "    </tr>\n",
       "    <tr>\n",
       "      <th>4</th>\n",
       "      <td>1</td>\n",
       "      <td>1396.707750</td>\n",
       "    </tr>\n",
       "  </tbody>\n",
       "</table>\n",
       "</div>"
      ],
      "text/plain": [
       "   EmpId  Gross_Revenue\n",
       "0      1    1559.713167\n",
       "1      1    1334.622967\n",
       "2      1    1392.337750\n",
       "3      1    1442.128467\n",
       "4      1    1396.707750"
      ]
     },
     "execution_count": 15,
     "metadata": {},
     "output_type": "execute_result"
    }
   ],
   "source": [
    "samp_distributions_df.head()"
   ]
  },
  {
   "cell_type": "markdown",
   "metadata": {},
   "source": [
    "### ANOVA Test"
   ]
  },
  {
   "cell_type": "markdown",
   "metadata": {},
   "source": [
    "Now I have a dictionary of normally distributed sampling distributions for each employee. I can now run an **ANOVA Test**."
   ]
  },
  {
   "cell_type": "markdown",
   "metadata": {},
   "source": [
    "As a reminder:\n",
    "\n",
    "**Null Hypothesis**: There is no difference in the average gross revenue per order between employees. \n",
    "\n",
    "> $H_{o}: \\mu_1 = \\mu_2 = ... = \\mu_n$ \n",
    "\n",
    "**Alternative Hypothesis**: There is a statistically significant difference in the average gross revenue per order between employees. \n",
    "\n",
    "> $H_{a}: \\mu_1 \\neq \\mu_i$ \n",
    "\n",
    "**Significance Level**: 95% confidence level\n",
    "\n",
    "> $\\alpha = .05$"
   ]
  },
  {
   "cell_type": "code",
   "execution_count": 16,
   "metadata": {},
   "outputs": [
    {
     "data": {
      "text/html": [
       "<div>\n",
       "<style scoped>\n",
       "    .dataframe tbody tr th:only-of-type {\n",
       "        vertical-align: middle;\n",
       "    }\n",
       "\n",
       "    .dataframe tbody tr th {\n",
       "        vertical-align: top;\n",
       "    }\n",
       "\n",
       "    .dataframe thead th {\n",
       "        text-align: right;\n",
       "    }\n",
       "</style>\n",
       "<table border=\"1\" class=\"dataframe\">\n",
       "  <thead>\n",
       "    <tr style=\"text-align: right;\">\n",
       "      <th></th>\n",
       "      <th>EmpId</th>\n",
       "      <th>Gross_Revenue</th>\n",
       "    </tr>\n",
       "  </thead>\n",
       "  <tbody>\n",
       "    <tr>\n",
       "      <th>0</th>\n",
       "      <td>1</td>\n",
       "      <td>1559.713167</td>\n",
       "    </tr>\n",
       "    <tr>\n",
       "      <th>1</th>\n",
       "      <td>1</td>\n",
       "      <td>1334.622967</td>\n",
       "    </tr>\n",
       "    <tr>\n",
       "      <th>2</th>\n",
       "      <td>1</td>\n",
       "      <td>1392.337750</td>\n",
       "    </tr>\n",
       "    <tr>\n",
       "      <th>3</th>\n",
       "      <td>1</td>\n",
       "      <td>1442.128467</td>\n",
       "    </tr>\n",
       "    <tr>\n",
       "      <th>4</th>\n",
       "      <td>1</td>\n",
       "      <td>1396.707750</td>\n",
       "    </tr>\n",
       "  </tbody>\n",
       "</table>\n",
       "</div>"
      ],
      "text/plain": [
       "   EmpId  Gross_Revenue\n",
       "0      1    1559.713167\n",
       "1      1    1334.622967\n",
       "2      1    1392.337750\n",
       "3      1    1442.128467\n",
       "4      1    1396.707750"
      ]
     },
     "execution_count": 16,
     "metadata": {},
     "output_type": "execute_result"
    }
   ],
   "source": [
    "samp_distributions_df.head()"
   ]
  },
  {
   "cell_type": "code",
   "execution_count": 17,
   "metadata": {},
   "outputs": [
    {
     "name": "stdout",
     "output_type": "stream",
     "text": [
      "                sum_sq     df          F        PR(>F)\n",
      "C(EmpId)  1.700370e+06    8.0  11.558058  4.809155e-14\n",
      "Residual  4.799644e+06  261.0        NaN           NaN\n"
     ]
    }
   ],
   "source": [
    "# Run an ANOVA test to see influentiality of salesperson choice\n",
    "formula = 'Gross_Revenue ~ C(EmpId)'\n",
    "lm = ols(formula, samp_distributions_df).fit()\n",
    "table = sm.stats.anova_lm(lm, typ=2)\n",
    "print(table)"
   ]
  },
  {
   "cell_type": "markdown",
   "metadata": {},
   "source": [
    "The p value is less than alpha so I reject the null hypothesis in favor of the alternative hypothesis. Discounts have a statistically significant effect on Gross Revenue. "
   ]
  },
  {
   "cell_type": "markdown",
   "metadata": {},
   "source": [
    "### Tukey Test"
   ]
  },
  {
   "cell_type": "markdown",
   "metadata": {},
   "source": [
    "Now that I know discounts have a statistically significant effect on Gross Revenue, I can investigate the different levels of discount. I use a Tukey Test to do multiple comparisons."
   ]
  },
  {
   "cell_type": "code",
   "execution_count": 18,
   "metadata": {},
   "outputs": [
    {
     "data": {
      "text/html": [
       "<div>\n",
       "<style scoped>\n",
       "    .dataframe tbody tr th:only-of-type {\n",
       "        vertical-align: middle;\n",
       "    }\n",
       "\n",
       "    .dataframe tbody tr th {\n",
       "        vertical-align: top;\n",
       "    }\n",
       "\n",
       "    .dataframe thead th {\n",
       "        text-align: right;\n",
       "    }\n",
       "</style>\n",
       "<table border=\"1\" class=\"dataframe\">\n",
       "  <thead>\n",
       "    <tr style=\"text-align: right;\">\n",
       "      <th></th>\n",
       "      <th>count</th>\n",
       "      <th>mean</th>\n",
       "      <th>std</th>\n",
       "      <th>min</th>\n",
       "      <th>25%</th>\n",
       "      <th>50%</th>\n",
       "      <th>75%</th>\n",
       "      <th>max</th>\n",
       "    </tr>\n",
       "    <tr>\n",
       "      <th>EmpId</th>\n",
       "      <th></th>\n",
       "      <th></th>\n",
       "      <th></th>\n",
       "      <th></th>\n",
       "      <th></th>\n",
       "      <th></th>\n",
       "      <th></th>\n",
       "      <th></th>\n",
       "    </tr>\n",
       "  </thead>\n",
       "  <tbody>\n",
       "    <tr>\n",
       "      <th>1</th>\n",
       "      <td>30.0</td>\n",
       "      <td>1336.011500</td>\n",
       "      <td>159.029433</td>\n",
       "      <td>963.664800</td>\n",
       "      <td>1217.047996</td>\n",
       "      <td>1368.068250</td>\n",
       "      <td>1446.225804</td>\n",
       "      <td>1559.713167</td>\n",
       "    </tr>\n",
       "    <tr>\n",
       "      <th>2</th>\n",
       "      <td>30.0</td>\n",
       "      <td>1284.502128</td>\n",
       "      <td>157.125628</td>\n",
       "      <td>1071.779000</td>\n",
       "      <td>1190.687750</td>\n",
       "      <td>1259.518333</td>\n",
       "      <td>1364.360000</td>\n",
       "      <td>1785.950167</td>\n",
       "    </tr>\n",
       "    <tr>\n",
       "      <th>3</th>\n",
       "      <td>30.0</td>\n",
       "      <td>1157.671315</td>\n",
       "      <td>142.215458</td>\n",
       "      <td>867.507383</td>\n",
       "      <td>1057.133454</td>\n",
       "      <td>1183.882133</td>\n",
       "      <td>1276.605908</td>\n",
       "      <td>1401.712767</td>\n",
       "    </tr>\n",
       "    <tr>\n",
       "      <th>4</th>\n",
       "      <td>30.0</td>\n",
       "      <td>1185.579756</td>\n",
       "      <td>157.220801</td>\n",
       "      <td>973.513500</td>\n",
       "      <td>1068.420783</td>\n",
       "      <td>1155.353542</td>\n",
       "      <td>1244.676821</td>\n",
       "      <td>1633.910500</td>\n",
       "    </tr>\n",
       "    <tr>\n",
       "      <th>5</th>\n",
       "      <td>30.0</td>\n",
       "      <td>1312.863375</td>\n",
       "      <td>91.488827</td>\n",
       "      <td>1101.127417</td>\n",
       "      <td>1261.215229</td>\n",
       "      <td>1304.614958</td>\n",
       "      <td>1373.548521</td>\n",
       "      <td>1458.410667</td>\n",
       "    </tr>\n",
       "    <tr>\n",
       "      <th>6</th>\n",
       "      <td>30.0</td>\n",
       "      <td>1123.493067</td>\n",
       "      <td>132.835775</td>\n",
       "      <td>890.983333</td>\n",
       "      <td>1060.452083</td>\n",
       "      <td>1116.102192</td>\n",
       "      <td>1203.104437</td>\n",
       "      <td>1405.363567</td>\n",
       "    </tr>\n",
       "    <tr>\n",
       "      <th>7</th>\n",
       "      <td>30.0</td>\n",
       "      <td>1149.407028</td>\n",
       "      <td>145.063987</td>\n",
       "      <td>892.290333</td>\n",
       "      <td>1042.192125</td>\n",
       "      <td>1139.392292</td>\n",
       "      <td>1244.123438</td>\n",
       "      <td>1447.189250</td>\n",
       "    </tr>\n",
       "    <tr>\n",
       "      <th>8</th>\n",
       "      <td>30.0</td>\n",
       "      <td>1144.046622</td>\n",
       "      <td>126.079945</td>\n",
       "      <td>881.061500</td>\n",
       "      <td>1073.104917</td>\n",
       "      <td>1153.767292</td>\n",
       "      <td>1221.298958</td>\n",
       "      <td>1439.753667</td>\n",
       "    </tr>\n",
       "    <tr>\n",
       "      <th>9</th>\n",
       "      <td>30.0</td>\n",
       "      <td>1130.556384</td>\n",
       "      <td>87.334243</td>\n",
       "      <td>925.022050</td>\n",
       "      <td>1070.156725</td>\n",
       "      <td>1132.850275</td>\n",
       "      <td>1198.584454</td>\n",
       "      <td>1257.962050</td>\n",
       "    </tr>\n",
       "  </tbody>\n",
       "</table>\n",
       "</div>"
      ],
      "text/plain": [
       "       count         mean         std          min          25%          50%  \\\n",
       "EmpId                                                                          \n",
       "1       30.0  1336.011500  159.029433   963.664800  1217.047996  1368.068250   \n",
       "2       30.0  1284.502128  157.125628  1071.779000  1190.687750  1259.518333   \n",
       "3       30.0  1157.671315  142.215458   867.507383  1057.133454  1183.882133   \n",
       "4       30.0  1185.579756  157.220801   973.513500  1068.420783  1155.353542   \n",
       "5       30.0  1312.863375   91.488827  1101.127417  1261.215229  1304.614958   \n",
       "6       30.0  1123.493067  132.835775   890.983333  1060.452083  1116.102192   \n",
       "7       30.0  1149.407028  145.063987   892.290333  1042.192125  1139.392292   \n",
       "8       30.0  1144.046622  126.079945   881.061500  1073.104917  1153.767292   \n",
       "9       30.0  1130.556384   87.334243   925.022050  1070.156725  1132.850275   \n",
       "\n",
       "               75%          max  \n",
       "EmpId                            \n",
       "1      1446.225804  1559.713167  \n",
       "2      1364.360000  1785.950167  \n",
       "3      1276.605908  1401.712767  \n",
       "4      1244.676821  1633.910500  \n",
       "5      1373.548521  1458.410667  \n",
       "6      1203.104437  1405.363567  \n",
       "7      1244.123438  1447.189250  \n",
       "8      1221.298958  1439.753667  \n",
       "9      1198.584454  1257.962050  "
      ]
     },
     "execution_count": 18,
     "metadata": {},
     "output_type": "execute_result"
    }
   ],
   "source": [
    "# Summary statistics for sampling distribution by employee\n",
    "samp_distributions_df.Gross_Revenue.groupby(samp_distributions_df.EmpId).describe()"
   ]
  },
  {
   "cell_type": "code",
   "execution_count": 19,
   "metadata": {},
   "outputs": [
    {
     "name": "stdout",
     "output_type": "stream",
     "text": [
      "Multiple Comparison of Means - Tukey HSD,FWER=0.05\n",
      "==================================================\n",
      "group1 group2  meandiff   lower     upper   reject\n",
      "--------------------------------------------------\n",
      "  1      2     -51.5094 -161.0322  58.0134  False \n",
      "  1      3    -178.3402  -287.863  -68.8174  True \n",
      "  1      4    -150.4317 -259.9545  -40.909   True \n",
      "  1      5     -23.1481 -132.6709  86.3747  False \n",
      "  1      6    -212.5184 -322.0412 -102.9956  True \n",
      "  1      7    -186.6045 -296.1273  -77.0817  True \n",
      "  1      8    -191.9649 -301.4877  -82.4421  True \n",
      "  1      9    -205.4551 -314.9779  -95.9323  True \n",
      "  2      3    -126.8308 -236.3536  -17.308   True \n",
      "  2      4     -98.9224 -208.4452  10.6004  False \n",
      "  2      5     28.3612   -81.1615  137.884  False \n",
      "  2      6    -161.0091 -270.5318  -51.4863  True \n",
      "  2      7    -135.0951 -244.6179  -25.5723  True \n",
      "  2      8    -140.4555 -249.9783  -30.9327  True \n",
      "  2      9    -153.9457 -263.4685  -44.423   True \n",
      "  3      4     27.9084   -81.6143  137.4312 False \n",
      "  3      5     155.1921  45.6693   264.7148  True \n",
      "  3      6     -34.1782  -143.701  75.3445  False \n",
      "  3      7     -8.2643  -117.7871  101.2585 False \n",
      "  3      8     -13.6247 -123.1475  95.8981  False \n",
      "  3      9     -27.1149 -136.6377  82.4079  False \n",
      "  4      5     127.2836  17.7608   236.8064  True \n",
      "  4      6     -62.0867 -171.6095  47.4361  False \n",
      "  4      7     -36.1727 -145.6955  73.3501  False \n",
      "  4      8     -41.5331 -151.0559  67.9897  False \n",
      "  4      9     -55.0234 -164.5462  54.4994  False \n",
      "  5      6    -189.3703 -298.8931  -79.8475  True \n",
      "  5      7    -163.4563 -272.9791  -53.9336  True \n",
      "  5      8    -168.8168 -278.3395  -59.294   True \n",
      "  5      9     -182.307 -291.8298  -72.7842  True \n",
      "  6      7      25.914   -83.6088  135.4367 False \n",
      "  6      8     20.5536   -88.9692  130.0763 False \n",
      "  6      9      7.0633  -102.4595  116.5861 False \n",
      "  7      8     -5.3604  -114.8832  104.1624 False \n",
      "  7      9     -18.8506 -128.3734  90.6721  False \n",
      "  8      9     -13.4902  -123.013  96.0325  False \n",
      "--------------------------------------------------\n",
      "[1 2 3 4 5 6 7 8 9]\n"
     ]
    }
   ],
   "source": [
    "# Tukey Test\n",
    "# Null hypothesis - the means are equal\n",
    "mc = MultiComparison(samp_distributions_df.Gross_Revenue, samp_distributions_df.EmpId)\n",
    "result = mc.tukeyhsd()\n",
    "print(result)\n",
    "print(mc.groupsunique)"
   ]
  },
  {
   "cell_type": "code",
   "execution_count": 23,
   "metadata": {},
   "outputs": [],
   "source": [
    "employee_ids = [1,2,3,4,5,6,7,8,9]\n",
    "employee_combinations = itertools.combinations(employee_ids, 2)"
   ]
  },
  {
   "cell_type": "code",
   "execution_count": 26,
   "metadata": {},
   "outputs": [],
   "source": [
    "# T-test for quantity average sales revenue per order from each region\n",
    "employee_sales_combo_df = pd.DataFrame(columns = ['Employee 1','Employee 2','p-value',\n",
    "                                                      'Reject Null?', 'Employee 1 Sales Mean', 'Employee 2 Sales Mean',\n",
    "                                                      'Difference of Means', 'Cohens d'])\n",
    "\n",
    "for combo in employee_combinations:\n",
    "    \n",
    "    samp1_control = samp_distributions_df[samp_distributions_df['EmpId']==combo[0]]['Gross_Revenue']\n",
    "    samp2_experimental = samp_distributions_df[samp_distributions_df['EmpId']==combo[1]]['Gross_Revenue']\n",
    "    \n",
    "    s1mean = samp_distributions_df[samp_distributions_df['EmpId']==combo[0]]['Gross_Revenue'].mean()\n",
    "    s2mean = samp_distributions_df[samp_distributions_df['EmpId']==combo[1]]['Gross_Revenue'].mean()\n",
    "    \n",
    "    t_stat, p_val = stats.ttest_ind(samp1_control, samp2_experimental)\n",
    "    diff_mean = round(samp1_control.mean() - samp2_experimental.mean(),2)\n",
    "    effect_size_cohen = round(Cohen_d(samp1_control, samp2_experimental),3)\n",
    "    \n",
    "    p_val = p_val / 2 # for one tailed test\n",
    "    \n",
    "    employee_sales_combo_df = employee_sales_combo_df.append({'Employee 1' : combo[0], 'Employee 2': combo[1], \n",
    "                                                 'p-value': p_val, 'Reject Null?': \"Yes, Reject\" if p_val < 0.05 else \"No, Fail to Reject\",\n",
    "                                                           'Employee 1 Sales Mean': s1mean, 'Employee 2 Sales Mean': s2mean,\n",
    "                                                 'Difference of Means': diff_mean, 'Cohens d': effect_size_cohen}, ignore_index=True)"
   ]
  },
  {
   "cell_type": "code",
   "execution_count": 27,
   "metadata": {},
   "outputs": [
    {
     "data": {
      "text/html": [
       "<div>\n",
       "<style scoped>\n",
       "    .dataframe tbody tr th:only-of-type {\n",
       "        vertical-align: middle;\n",
       "    }\n",
       "\n",
       "    .dataframe tbody tr th {\n",
       "        vertical-align: top;\n",
       "    }\n",
       "\n",
       "    .dataframe thead th {\n",
       "        text-align: right;\n",
       "    }\n",
       "</style>\n",
       "<table border=\"1\" class=\"dataframe\">\n",
       "  <thead>\n",
       "    <tr style=\"text-align: right;\">\n",
       "      <th></th>\n",
       "      <th>Employee 1</th>\n",
       "      <th>Employee 2</th>\n",
       "      <th>p-value</th>\n",
       "      <th>Reject Null?</th>\n",
       "      <th>Employee 1 Sales Mean</th>\n",
       "      <th>Employee 2 Sales Mean</th>\n",
       "      <th>Difference of Means</th>\n",
       "      <th>Cohens d</th>\n",
       "    </tr>\n",
       "  </thead>\n",
       "  <tbody>\n",
       "    <tr>\n",
       "      <th>0</th>\n",
       "      <td>1</td>\n",
       "      <td>3</td>\n",
       "      <td>9.217349e-05</td>\n",
       "      <td>Yes, Reject</td>\n",
       "      <td>1309.746584</td>\n",
       "      <td>1128.821400</td>\n",
       "      <td>180.93</td>\n",
       "      <td>1.049</td>\n",
       "    </tr>\n",
       "    <tr>\n",
       "      <th>1</th>\n",
       "      <td>1</td>\n",
       "      <td>4</td>\n",
       "      <td>7.951793e-02</td>\n",
       "      <td>No, Fail to Reject</td>\n",
       "      <td>1309.746584</td>\n",
       "      <td>1254.423183</td>\n",
       "      <td>55.32</td>\n",
       "      <td>0.375</td>\n",
       "    </tr>\n",
       "    <tr>\n",
       "      <th>2</th>\n",
       "      <td>1</td>\n",
       "      <td>5</td>\n",
       "      <td>3.539902e-01</td>\n",
       "      <td>No, Fail to Reject</td>\n",
       "      <td>1309.746584</td>\n",
       "      <td>1324.275236</td>\n",
       "      <td>-14.53</td>\n",
       "      <td>0.099</td>\n",
       "    </tr>\n",
       "    <tr>\n",
       "      <th>3</th>\n",
       "      <td>1</td>\n",
       "      <td>6</td>\n",
       "      <td>4.104658e-08</td>\n",
       "      <td>Yes, Reject</td>\n",
       "      <td>1309.746584</td>\n",
       "      <td>1088.921111</td>\n",
       "      <td>220.83</td>\n",
       "      <td>1.611</td>\n",
       "    </tr>\n",
       "    <tr>\n",
       "      <th>4</th>\n",
       "      <td>1</td>\n",
       "      <td>7</td>\n",
       "      <td>1.127735e-04</td>\n",
       "      <td>Yes, Reject</td>\n",
       "      <td>1309.746584</td>\n",
       "      <td>1140.389036</td>\n",
       "      <td>169.36</td>\n",
       "      <td>1.033</td>\n",
       "    </tr>\n",
       "  </tbody>\n",
       "</table>\n",
       "</div>"
      ],
      "text/plain": [
       "  Employee 1 Employee 2       p-value        Reject Null?  \\\n",
       "0          1          3  9.217349e-05         Yes, Reject   \n",
       "1          1          4  7.951793e-02  No, Fail to Reject   \n",
       "2          1          5  3.539902e-01  No, Fail to Reject   \n",
       "3          1          6  4.104658e-08         Yes, Reject   \n",
       "4          1          7  1.127735e-04         Yes, Reject   \n",
       "\n",
       "   Employee 1 Sales Mean  Employee 2 Sales Mean  Difference of Means  Cohens d  \n",
       "0            1309.746584            1128.821400               180.93     1.049  \n",
       "1            1309.746584            1254.423183                55.32     0.375  \n",
       "2            1309.746584            1324.275236               -14.53     0.099  \n",
       "3            1309.746584            1088.921111               220.83     1.611  \n",
       "4            1309.746584            1140.389036               169.36     1.033  "
      ]
     },
     "execution_count": 27,
     "metadata": {},
     "output_type": "execute_result"
    }
   ],
   "source": [
    "employee_sales_combo_df.head()"
   ]
  },
  {
   "cell_type": "code",
   "execution_count": 28,
   "metadata": {},
   "outputs": [
    {
     "data": {
      "text/html": [
       "<div>\n",
       "<style scoped>\n",
       "    .dataframe tbody tr th:only-of-type {\n",
       "        vertical-align: middle;\n",
       "    }\n",
       "\n",
       "    .dataframe tbody tr th {\n",
       "        vertical-align: top;\n",
       "    }\n",
       "\n",
       "    .dataframe thead th {\n",
       "        text-align: right;\n",
       "    }\n",
       "</style>\n",
       "<table border=\"1\" class=\"dataframe\">\n",
       "  <thead>\n",
       "    <tr style=\"text-align: right;\">\n",
       "      <th></th>\n",
       "      <th>Employee 1</th>\n",
       "      <th>Employee 2</th>\n",
       "      <th>p-value</th>\n",
       "      <th>Reject Null?</th>\n",
       "      <th>Employee 1 Sales Mean</th>\n",
       "      <th>Employee 2 Sales Mean</th>\n",
       "      <th>Difference of Means</th>\n",
       "      <th>Cohens d</th>\n",
       "    </tr>\n",
       "  </thead>\n",
       "  <tbody>\n",
       "    <tr>\n",
       "      <th>0</th>\n",
       "      <td>1</td>\n",
       "      <td>3</td>\n",
       "      <td>9.217349e-05</td>\n",
       "      <td>Yes, Reject</td>\n",
       "      <td>1309.746584</td>\n",
       "      <td>1128.821400</td>\n",
       "      <td>180.93</td>\n",
       "      <td>1.049</td>\n",
       "    </tr>\n",
       "    <tr>\n",
       "      <th>3</th>\n",
       "      <td>1</td>\n",
       "      <td>6</td>\n",
       "      <td>4.104658e-08</td>\n",
       "      <td>Yes, Reject</td>\n",
       "      <td>1309.746584</td>\n",
       "      <td>1088.921111</td>\n",
       "      <td>220.83</td>\n",
       "      <td>1.611</td>\n",
       "    </tr>\n",
       "    <tr>\n",
       "      <th>4</th>\n",
       "      <td>1</td>\n",
       "      <td>7</td>\n",
       "      <td>1.127735e-04</td>\n",
       "      <td>Yes, Reject</td>\n",
       "      <td>1309.746584</td>\n",
       "      <td>1140.389036</td>\n",
       "      <td>169.36</td>\n",
       "      <td>1.033</td>\n",
       "    </tr>\n",
       "    <tr>\n",
       "      <th>5</th>\n",
       "      <td>1</td>\n",
       "      <td>8</td>\n",
       "      <td>2.732061e-04</td>\n",
       "      <td>Yes, Reject</td>\n",
       "      <td>1309.746584</td>\n",
       "      <td>1167.815864</td>\n",
       "      <td>141.93</td>\n",
       "      <td>0.961</td>\n",
       "    </tr>\n",
       "    <tr>\n",
       "      <th>6</th>\n",
       "      <td>1</td>\n",
       "      <td>9</td>\n",
       "      <td>1.136939e-05</td>\n",
       "      <td>Yes, Reject</td>\n",
       "      <td>1309.746584</td>\n",
       "      <td>1157.617524</td>\n",
       "      <td>152.13</td>\n",
       "      <td>1.210</td>\n",
       "    </tr>\n",
       "    <tr>\n",
       "      <th>7</th>\n",
       "      <td>2</td>\n",
       "      <td>3</td>\n",
       "      <td>4.064082e-04</td>\n",
       "      <td>Yes, Reject</td>\n",
       "      <td>1287.349217</td>\n",
       "      <td>1128.821400</td>\n",
       "      <td>158.53</td>\n",
       "      <td>0.928</td>\n",
       "    </tr>\n",
       "    <tr>\n",
       "      <th>10</th>\n",
       "      <td>2</td>\n",
       "      <td>6</td>\n",
       "      <td>3.168528e-07</td>\n",
       "      <td>Yes, Reject</td>\n",
       "      <td>1287.349217</td>\n",
       "      <td>1088.921111</td>\n",
       "      <td>198.43</td>\n",
       "      <td>1.469</td>\n",
       "    </tr>\n",
       "    <tr>\n",
       "      <th>11</th>\n",
       "      <td>2</td>\n",
       "      <td>7</td>\n",
       "      <td>5.272732e-04</td>\n",
       "      <td>Yes, Reject</td>\n",
       "      <td>1287.349217</td>\n",
       "      <td>1140.389036</td>\n",
       "      <td>146.96</td>\n",
       "      <td>0.906</td>\n",
       "    </tr>\n",
       "    <tr>\n",
       "      <th>12</th>\n",
       "      <td>2</td>\n",
       "      <td>8</td>\n",
       "      <td>1.402529e-03</td>\n",
       "      <td>Yes, Reject</td>\n",
       "      <td>1287.349217</td>\n",
       "      <td>1167.815864</td>\n",
       "      <td>119.53</td>\n",
       "      <td>0.820</td>\n",
       "    </tr>\n",
       "    <tr>\n",
       "      <th>13</th>\n",
       "      <td>2</td>\n",
       "      <td>9</td>\n",
       "      <td>9.113962e-05</td>\n",
       "      <td>Yes, Reject</td>\n",
       "      <td>1287.349217</td>\n",
       "      <td>1157.617524</td>\n",
       "      <td>129.73</td>\n",
       "      <td>1.050</td>\n",
       "    </tr>\n",
       "    <tr>\n",
       "      <th>14</th>\n",
       "      <td>3</td>\n",
       "      <td>4</td>\n",
       "      <td>2.109690e-03</td>\n",
       "      <td>Yes, Reject</td>\n",
       "      <td>1128.821400</td>\n",
       "      <td>1254.423183</td>\n",
       "      <td>-125.60</td>\n",
       "      <td>0.782</td>\n",
       "    </tr>\n",
       "    <tr>\n",
       "      <th>15</th>\n",
       "      <td>3</td>\n",
       "      <td>5</td>\n",
       "      <td>9.687095e-06</td>\n",
       "      <td>Yes, Reject</td>\n",
       "      <td>1128.821400</td>\n",
       "      <td>1324.275236</td>\n",
       "      <td>-195.45</td>\n",
       "      <td>1.222</td>\n",
       "    </tr>\n",
       "    <tr>\n",
       "      <th>20</th>\n",
       "      <td>4</td>\n",
       "      <td>5</td>\n",
       "      <td>2.497866e-02</td>\n",
       "      <td>Yes, Reject</td>\n",
       "      <td>1254.423183</td>\n",
       "      <td>1324.275236</td>\n",
       "      <td>-69.85</td>\n",
       "      <td>0.526</td>\n",
       "    </tr>\n",
       "    <tr>\n",
       "      <th>21</th>\n",
       "      <td>4</td>\n",
       "      <td>6</td>\n",
       "      <td>1.500173e-06</td>\n",
       "      <td>Yes, Reject</td>\n",
       "      <td>1254.423183</td>\n",
       "      <td>1088.921111</td>\n",
       "      <td>165.50</td>\n",
       "      <td>1.358</td>\n",
       "    </tr>\n",
       "    <tr>\n",
       "      <th>22</th>\n",
       "      <td>4</td>\n",
       "      <td>7</td>\n",
       "      <td>2.871726e-03</td>\n",
       "      <td>Yes, Reject</td>\n",
       "      <td>1254.423183</td>\n",
       "      <td>1140.389036</td>\n",
       "      <td>114.03</td>\n",
       "      <td>0.753</td>\n",
       "    </tr>\n",
       "    <tr>\n",
       "      <th>23</th>\n",
       "      <td>4</td>\n",
       "      <td>8</td>\n",
       "      <td>8.276488e-03</td>\n",
       "      <td>Yes, Reject</td>\n",
       "      <td>1254.423183</td>\n",
       "      <td>1167.815864</td>\n",
       "      <td>86.61</td>\n",
       "      <td>0.648</td>\n",
       "    </tr>\n",
       "    <tr>\n",
       "      <th>24</th>\n",
       "      <td>4</td>\n",
       "      <td>9</td>\n",
       "      <td>6.386699e-04</td>\n",
       "      <td>Yes, Reject</td>\n",
       "      <td>1254.423183</td>\n",
       "      <td>1157.617524</td>\n",
       "      <td>96.81</td>\n",
       "      <td>0.889</td>\n",
       "    </tr>\n",
       "    <tr>\n",
       "      <th>25</th>\n",
       "      <td>5</td>\n",
       "      <td>6</td>\n",
       "      <td>3.044135e-10</td>\n",
       "      <td>Yes, Reject</td>\n",
       "      <td>1324.275236</td>\n",
       "      <td>1088.921111</td>\n",
       "      <td>235.35</td>\n",
       "      <td>1.945</td>\n",
       "    </tr>\n",
       "    <tr>\n",
       "      <th>26</th>\n",
       "      <td>5</td>\n",
       "      <td>7</td>\n",
       "      <td>9.953578e-06</td>\n",
       "      <td>Yes, Reject</td>\n",
       "      <td>1324.275236</td>\n",
       "      <td>1140.389036</td>\n",
       "      <td>183.89</td>\n",
       "      <td>1.220</td>\n",
       "    </tr>\n",
       "    <tr>\n",
       "      <th>27</th>\n",
       "      <td>5</td>\n",
       "      <td>8</td>\n",
       "      <td>1.754802e-05</td>\n",
       "      <td>Yes, Reject</td>\n",
       "      <td>1324.275236</td>\n",
       "      <td>1167.815864</td>\n",
       "      <td>156.46</td>\n",
       "      <td>1.178</td>\n",
       "    </tr>\n",
       "    <tr>\n",
       "      <th>28</th>\n",
       "      <td>5</td>\n",
       "      <td>9</td>\n",
       "      <td>1.073107e-07</td>\n",
       "      <td>Yes, Reject</td>\n",
       "      <td>1324.275236</td>\n",
       "      <td>1157.617524</td>\n",
       "      <td>166.66</td>\n",
       "      <td>1.544</td>\n",
       "    </tr>\n",
       "    <tr>\n",
       "      <th>30</th>\n",
       "      <td>6</td>\n",
       "      <td>8</td>\n",
       "      <td>8.330611e-03</td>\n",
       "      <td>Yes, Reject</td>\n",
       "      <td>1088.921111</td>\n",
       "      <td>1167.815864</td>\n",
       "      <td>-78.89</td>\n",
       "      <td>0.647</td>\n",
       "    </tr>\n",
       "    <tr>\n",
       "      <th>31</th>\n",
       "      <td>6</td>\n",
       "      <td>9</td>\n",
       "      <td>3.641247e-03</td>\n",
       "      <td>Yes, Reject</td>\n",
       "      <td>1088.921111</td>\n",
       "      <td>1157.617524</td>\n",
       "      <td>-68.70</td>\n",
       "      <td>0.731</td>\n",
       "    </tr>\n",
       "  </tbody>\n",
       "</table>\n",
       "</div>"
      ],
      "text/plain": [
       "   Employee 1 Employee 2       p-value Reject Null?  Employee 1 Sales Mean  \\\n",
       "0           1          3  9.217349e-05  Yes, Reject            1309.746584   \n",
       "3           1          6  4.104658e-08  Yes, Reject            1309.746584   \n",
       "4           1          7  1.127735e-04  Yes, Reject            1309.746584   \n",
       "5           1          8  2.732061e-04  Yes, Reject            1309.746584   \n",
       "6           1          9  1.136939e-05  Yes, Reject            1309.746584   \n",
       "7           2          3  4.064082e-04  Yes, Reject            1287.349217   \n",
       "10          2          6  3.168528e-07  Yes, Reject            1287.349217   \n",
       "11          2          7  5.272732e-04  Yes, Reject            1287.349217   \n",
       "12          2          8  1.402529e-03  Yes, Reject            1287.349217   \n",
       "13          2          9  9.113962e-05  Yes, Reject            1287.349217   \n",
       "14          3          4  2.109690e-03  Yes, Reject            1128.821400   \n",
       "15          3          5  9.687095e-06  Yes, Reject            1128.821400   \n",
       "20          4          5  2.497866e-02  Yes, Reject            1254.423183   \n",
       "21          4          6  1.500173e-06  Yes, Reject            1254.423183   \n",
       "22          4          7  2.871726e-03  Yes, Reject            1254.423183   \n",
       "23          4          8  8.276488e-03  Yes, Reject            1254.423183   \n",
       "24          4          9  6.386699e-04  Yes, Reject            1254.423183   \n",
       "25          5          6  3.044135e-10  Yes, Reject            1324.275236   \n",
       "26          5          7  9.953578e-06  Yes, Reject            1324.275236   \n",
       "27          5          8  1.754802e-05  Yes, Reject            1324.275236   \n",
       "28          5          9  1.073107e-07  Yes, Reject            1324.275236   \n",
       "30          6          8  8.330611e-03  Yes, Reject            1088.921111   \n",
       "31          6          9  3.641247e-03  Yes, Reject            1088.921111   \n",
       "\n",
       "    Employee 2 Sales Mean  Difference of Means  Cohens d  \n",
       "0             1128.821400               180.93     1.049  \n",
       "3             1088.921111               220.83     1.611  \n",
       "4             1140.389036               169.36     1.033  \n",
       "5             1167.815864               141.93     0.961  \n",
       "6             1157.617524               152.13     1.210  \n",
       "7             1128.821400               158.53     0.928  \n",
       "10            1088.921111               198.43     1.469  \n",
       "11            1140.389036               146.96     0.906  \n",
       "12            1167.815864               119.53     0.820  \n",
       "13            1157.617524               129.73     1.050  \n",
       "14            1254.423183              -125.60     0.782  \n",
       "15            1324.275236              -195.45     1.222  \n",
       "20            1324.275236               -69.85     0.526  \n",
       "21            1088.921111               165.50     1.358  \n",
       "22            1140.389036               114.03     0.753  \n",
       "23            1167.815864                86.61     0.648  \n",
       "24            1157.617524                96.81     0.889  \n",
       "25            1088.921111               235.35     1.945  \n",
       "26            1140.389036               183.89     1.220  \n",
       "27            1167.815864               156.46     1.178  \n",
       "28            1157.617524               166.66     1.544  \n",
       "30            1167.815864               -78.89     0.647  \n",
       "31            1157.617524               -68.70     0.731  "
      ]
     },
     "execution_count": 28,
     "metadata": {},
     "output_type": "execute_result"
    }
   ],
   "source": [
    "employee_sales_combo_df[employee_sales_combo_df['Reject Null?'] == \"Yes, Reject\"]"
   ]
  },
  {
   "cell_type": "markdown",
   "metadata": {},
   "source": [
    "## Results"
   ]
  },
  {
   "cell_type": "markdown",
   "metadata": {},
   "source": [
    "I can conclude that there is a statistically significant difference in the level of gross revenue brought in by different employees. Employees 1, 2, and 5 are the highest performing employees in terms of gross revenue. Employees 3 and 6 are the worst performing employees. "
   ]
  },
  {
   "cell_type": "markdown",
   "metadata": {},
   "source": [
    "## Recommendations"
   ]
  },
  {
   "cell_type": "markdown",
   "metadata": {},
   "source": [
    "These results can be used to strategize ways to boost employee performance. Since employees 1, 2, and 5 bring in the most gross revenue, perhaps they could host a training session for the other employees to share their best practices. I have also identifed that employees 3 and 6 may require additional support and training to hone their sales skills. This analysis could also be used as a basis for employee bonuses and awards to boost employee satisfaction. "
   ]
  }
 ],
 "metadata": {
  "kernelspec": {
   "display_name": "Python [conda env:learn-env] *",
   "language": "python",
   "name": "conda-env-learn-env-py"
  },
  "language_info": {
   "codemirror_mode": {
    "name": "ipython",
    "version": 3
   },
   "file_extension": ".py",
   "mimetype": "text/x-python",
   "name": "python",
   "nbconvert_exporter": "python",
   "pygments_lexer": "ipython3",
   "version": "3.6.6"
  }
 },
 "nbformat": 4,
 "nbformat_minor": 2
}
