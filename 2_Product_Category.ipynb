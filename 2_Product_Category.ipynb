{
 "cells": [
  {
   "cell_type": "markdown",
   "metadata": {},
   "source": [
    "# Question 2 - Product Category"
   ]
  },
  {
   "cell_type": "markdown",
   "metadata": {},
   "source": [
    "## Define Question"
   ]
  },
  {
   "cell_type": "markdown",
   "metadata": {},
   "source": [
    "Northwind sells a variety of consumer products including food items and beverages. If the company wants to maximize their average gross revenue, which categories of products should their sales team prioritize?\n",
    "\n",
    "> Do some types of products bring in more gross revenue than others?"
   ]
  },
  {
   "cell_type": "markdown",
   "metadata": {},
   "source": [
    "## State Hypothesis"
   ]
  },
  {
   "cell_type": "markdown",
   "metadata": {},
   "source": [
    "**Null Hypothesis**: There is no difference between the average gross revenue across the categories of products.\n",
    "\n",
    "> $H_{o}: \\mu_1 = \\mu_2 = ... = \\mu_n$\n",
    "\n",
    "**Alternative Hypothesis**: Category has a statistically significant effect on the average gross revenue.\n",
    "\n",
    "> $H_{a}: \\mu_1 < \\mu_i$ \n",
    "\n",
    "**Significance Level**: 95% confidence level\n",
    "\n",
    "> $\\alpha = .05$"
   ]
  },
  {
   "cell_type": "markdown",
   "metadata": {},
   "source": [
    "## Methodology"
   ]
  },
  {
   "cell_type": "markdown",
   "metadata": {},
   "source": [
    "I load my data and calculate gross revenue for each order in the dataframe. After examining my data, I remove the outliers that would skew my results. I then run an ANOVA test and a Tukey test to determine which product categories have the highest average gross revenue."
   ]
  },
  {
   "cell_type": "markdown",
   "metadata": {},
   "source": [
    "## Import Libraries and Connect to Data Source"
   ]
  },
  {
   "cell_type": "code",
   "execution_count": 1,
   "metadata": {},
   "outputs": [],
   "source": [
    "import sqlite3\n",
    "import pandas as pd\n",
    "import numpy as np\n",
    "import matplotlib.pyplot as plt\n",
    "%matplotlib inline\n",
    "import statsmodels.api as sm\n",
    "import seaborn as sns\n",
    "import scipy.stats as stats\n",
    "from hypothesis_testing import bootstrap, create_sampling_distribution, remove_outliers, Cohen_d\n",
    "import warnings\n",
    "warnings.filterwarnings('ignore')\n",
    "import itertools\n",
    "from statsmodels.formula.api import ols\n",
    "from statsmodels.stats.multicomp import pairwise_tukeyhsd\n",
    "from statsmodels.stats.multicomp import MultiComparison"
   ]
  },
  {
   "cell_type": "code",
   "execution_count": 2,
   "metadata": {},
   "outputs": [],
   "source": [
    "#Connect to server and create cursor\n",
    "conn = sqlite3.connect('northwind_small.sqlite')\n",
    "c = conn.cursor()"
   ]
  },
  {
   "cell_type": "markdown",
   "metadata": {},
   "source": [
    "## Obtain Data"
   ]
  },
  {
   "cell_type": "code",
   "execution_count": 3,
   "metadata": {},
   "outputs": [
    {
     "data": {
      "text/html": [
       "<div>\n",
       "<style scoped>\n",
       "    .dataframe tbody tr th:only-of-type {\n",
       "        vertical-align: middle;\n",
       "    }\n",
       "\n",
       "    .dataframe tbody tr th {\n",
       "        vertical-align: top;\n",
       "    }\n",
       "\n",
       "    .dataframe thead th {\n",
       "        text-align: right;\n",
       "    }\n",
       "</style>\n",
       "<table border=\"1\" class=\"dataframe\">\n",
       "  <thead>\n",
       "    <tr style=\"text-align: right;\">\n",
       "      <th></th>\n",
       "      <th>CategoryName</th>\n",
       "      <th>CategoryId</th>\n",
       "      <th>Quantity</th>\n",
       "      <th>GrossRevenue</th>\n",
       "    </tr>\n",
       "  </thead>\n",
       "  <tbody>\n",
       "    <tr>\n",
       "      <th>0</th>\n",
       "      <td>Dairy Products</td>\n",
       "      <td>4</td>\n",
       "      <td>12</td>\n",
       "      <td>168.0</td>\n",
       "    </tr>\n",
       "    <tr>\n",
       "      <th>1</th>\n",
       "      <td>Grains/Cereals</td>\n",
       "      <td>5</td>\n",
       "      <td>10</td>\n",
       "      <td>98.0</td>\n",
       "    </tr>\n",
       "    <tr>\n",
       "      <th>2</th>\n",
       "      <td>Dairy Products</td>\n",
       "      <td>4</td>\n",
       "      <td>5</td>\n",
       "      <td>174.0</td>\n",
       "    </tr>\n",
       "    <tr>\n",
       "      <th>3</th>\n",
       "      <td>Produce</td>\n",
       "      <td>7</td>\n",
       "      <td>9</td>\n",
       "      <td>167.4</td>\n",
       "    </tr>\n",
       "    <tr>\n",
       "      <th>4</th>\n",
       "      <td>Produce</td>\n",
       "      <td>7</td>\n",
       "      <td>40</td>\n",
       "      <td>1696.0</td>\n",
       "    </tr>\n",
       "  </tbody>\n",
       "</table>\n",
       "</div>"
      ],
      "text/plain": [
       "     CategoryName  CategoryId  Quantity  GrossRevenue\n",
       "0  Dairy Products           4        12         168.0\n",
       "1  Grains/Cereals           5        10          98.0\n",
       "2  Dairy Products           4         5         174.0\n",
       "3         Produce           7         9         167.4\n",
       "4         Produce           7        40        1696.0"
      ]
     },
     "execution_count": 3,
     "metadata": {},
     "output_type": "execute_result"
    }
   ],
   "source": [
    "query = \"\"\"SELECT c.CategoryName, p.CategoryId, od.Quantity,\n",
    "            ((od.Quantity*od.UnitPrice)*(1-od.Discount)) as GrossRevenue\n",
    "            FROM OrderDetail od\n",
    "            JOIN Product p\n",
    "            ON od.ProductID == p.Id\n",
    "            JOIN Category c\n",
    "            ON c.Id == p.CategoryId\"\"\"\n",
    "\n",
    "product_df = pd.read_sql(query, conn)\n",
    "product_df.head()"
   ]
  },
  {
   "cell_type": "code",
   "execution_count": 4,
   "metadata": {},
   "outputs": [
    {
     "data": {
      "text/html": [
       "<div>\n",
       "<style scoped>\n",
       "    .dataframe tbody tr th:only-of-type {\n",
       "        vertical-align: middle;\n",
       "    }\n",
       "\n",
       "    .dataframe tbody tr th {\n",
       "        vertical-align: top;\n",
       "    }\n",
       "\n",
       "    .dataframe thead th {\n",
       "        text-align: right;\n",
       "    }\n",
       "</style>\n",
       "<table border=\"1\" class=\"dataframe\">\n",
       "  <thead>\n",
       "    <tr style=\"text-align: right;\">\n",
       "      <th></th>\n",
       "      <th>CategoryId</th>\n",
       "      <th>Quantity</th>\n",
       "      <th>GrossRevenue</th>\n",
       "    </tr>\n",
       "  </thead>\n",
       "  <tbody>\n",
       "    <tr>\n",
       "      <th>count</th>\n",
       "      <td>2155.000000</td>\n",
       "      <td>2155.000000</td>\n",
       "      <td>2155.000000</td>\n",
       "    </tr>\n",
       "    <tr>\n",
       "      <th>mean</th>\n",
       "      <td>4.135499</td>\n",
       "      <td>23.812993</td>\n",
       "      <td>587.374960</td>\n",
       "    </tr>\n",
       "    <tr>\n",
       "      <th>std</th>\n",
       "      <td>2.378567</td>\n",
       "      <td>19.022047</td>\n",
       "      <td>969.224235</td>\n",
       "    </tr>\n",
       "    <tr>\n",
       "      <th>min</th>\n",
       "      <td>1.000000</td>\n",
       "      <td>1.000000</td>\n",
       "      <td>4.800000</td>\n",
       "    </tr>\n",
       "    <tr>\n",
       "      <th>25%</th>\n",
       "      <td>2.000000</td>\n",
       "      <td>10.000000</td>\n",
       "      <td>147.000000</td>\n",
       "    </tr>\n",
       "    <tr>\n",
       "      <th>50%</th>\n",
       "      <td>4.000000</td>\n",
       "      <td>20.000000</td>\n",
       "      <td>337.750000</td>\n",
       "    </tr>\n",
       "    <tr>\n",
       "      <th>75%</th>\n",
       "      <td>6.000000</td>\n",
       "      <td>30.000000</td>\n",
       "      <td>656.000000</td>\n",
       "    </tr>\n",
       "    <tr>\n",
       "      <th>max</th>\n",
       "      <td>8.000000</td>\n",
       "      <td>130.000000</td>\n",
       "      <td>15810.000000</td>\n",
       "    </tr>\n",
       "  </tbody>\n",
       "</table>\n",
       "</div>"
      ],
      "text/plain": [
       "        CategoryId     Quantity  GrossRevenue\n",
       "count  2155.000000  2155.000000   2155.000000\n",
       "mean      4.135499    23.812993    587.374960\n",
       "std       2.378567    19.022047    969.224235\n",
       "min       1.000000     1.000000      4.800000\n",
       "25%       2.000000    10.000000    147.000000\n",
       "50%       4.000000    20.000000    337.750000\n",
       "75%       6.000000    30.000000    656.000000\n",
       "max       8.000000   130.000000  15810.000000"
      ]
     },
     "execution_count": 4,
     "metadata": {},
     "output_type": "execute_result"
    }
   ],
   "source": [
    "product_df.describe()"
   ]
  },
  {
   "cell_type": "markdown",
   "metadata": {},
   "source": [
    "## Scrub Data"
   ]
  },
  {
   "cell_type": "code",
   "execution_count": 5,
   "metadata": {},
   "outputs": [
    {
     "data": {
      "text/html": [
       "<div>\n",
       "<style scoped>\n",
       "    .dataframe tbody tr th:only-of-type {\n",
       "        vertical-align: middle;\n",
       "    }\n",
       "\n",
       "    .dataframe tbody tr th {\n",
       "        vertical-align: top;\n",
       "    }\n",
       "\n",
       "    .dataframe thead th {\n",
       "        text-align: right;\n",
       "    }\n",
       "</style>\n",
       "<table border=\"1\" class=\"dataframe\">\n",
       "  <thead>\n",
       "    <tr style=\"text-align: right;\">\n",
       "      <th></th>\n",
       "      <th>CategoryId</th>\n",
       "      <th>Quantity</th>\n",
       "      <th>GrossRevenue</th>\n",
       "    </tr>\n",
       "  </thead>\n",
       "  <tbody>\n",
       "    <tr>\n",
       "      <th>count</th>\n",
       "      <td>2025.000000</td>\n",
       "      <td>2025.000000</td>\n",
       "      <td>2025.000000</td>\n",
       "    </tr>\n",
       "    <tr>\n",
       "      <th>mean</th>\n",
       "      <td>4.132346</td>\n",
       "      <td>21.819753</td>\n",
       "      <td>414.708449</td>\n",
       "    </tr>\n",
       "    <tr>\n",
       "      <th>std</th>\n",
       "      <td>2.392608</td>\n",
       "      <td>16.424567</td>\n",
       "      <td>361.516174</td>\n",
       "    </tr>\n",
       "    <tr>\n",
       "      <th>min</th>\n",
       "      <td>1.000000</td>\n",
       "      <td>1.000000</td>\n",
       "      <td>4.800000</td>\n",
       "    </tr>\n",
       "    <tr>\n",
       "      <th>25%</th>\n",
       "      <td>2.000000</td>\n",
       "      <td>10.000000</td>\n",
       "      <td>140.000000</td>\n",
       "    </tr>\n",
       "    <tr>\n",
       "      <th>50%</th>\n",
       "      <td>4.000000</td>\n",
       "      <td>20.000000</td>\n",
       "      <td>306.000000</td>\n",
       "    </tr>\n",
       "    <tr>\n",
       "      <th>75%</th>\n",
       "      <td>6.000000</td>\n",
       "      <td>30.000000</td>\n",
       "      <td>576.000000</td>\n",
       "    </tr>\n",
       "    <tr>\n",
       "      <th>max</th>\n",
       "      <td>8.000000</td>\n",
       "      <td>120.000000</td>\n",
       "      <td>1650.600000</td>\n",
       "    </tr>\n",
       "  </tbody>\n",
       "</table>\n",
       "</div>"
      ],
      "text/plain": [
       "        CategoryId     Quantity  GrossRevenue\n",
       "count  2025.000000  2025.000000   2025.000000\n",
       "mean      4.132346    21.819753    414.708449\n",
       "std       2.392608    16.424567    361.516174\n",
       "min       1.000000     1.000000      4.800000\n",
       "25%       2.000000    10.000000    140.000000\n",
       "50%       4.000000    20.000000    306.000000\n",
       "75%       6.000000    30.000000    576.000000\n",
       "max       8.000000   120.000000   1650.600000"
      ]
     },
     "execution_count": 5,
     "metadata": {},
     "output_type": "execute_result"
    }
   ],
   "source": [
    "# Remove outliers\n",
    "p_df = remove_outliers(product_df, 'GrossRevenue')\n",
    "\n",
    "p_df.describe()"
   ]
  },
  {
   "cell_type": "code",
   "execution_count": 6,
   "metadata": {},
   "outputs": [
    {
     "data": {
      "image/png": "[encoded data removed]",
      "text/plain": [
       "<Figure size 432x288 with 1 Axes>"
      ]
     },
     "metadata": {
      "needs_background": "light"
     },
     "output_type": "display_data"
    }
   ],
   "source": [
    "# Visualize data by discount level with boxplots\n",
    "sns.boxplot(x='CategoryName', y='GrossRevenue', data=p_df)\n",
    "plt.title('Gross Revenue by Category')\n",
    "plt.xlabel('Category');\n",
    "plt.ylabel('Gross Revenue')\n",
    "plt.xticks(rotation='vertical')\n",
    "plt.show()"
   ]
  },
  {
   "cell_type": "markdown",
   "metadata": {},
   "source": [
    "## Hypothesis Testing"
   ]
  },
  {
   "cell_type": "code",
   "execution_count": 7,
   "metadata": {},
   "outputs": [
    {
     "data": {
      "text/plain": [
       "['Dairy_Products',\n",
       " 'Grains/Cereals',\n",
       " 'Produce',\n",
       " 'Seafood',\n",
       " 'Condiments',\n",
       " 'Beverages',\n",
       " 'Confections',\n",
       " 'Meat/Poultry']"
      ]
     },
     "execution_count": 7,
     "metadata": {},
     "output_type": "execute_result"
    }
   ],
   "source": [
    "p_df.CategoryName.replace(to_replace='Dairy Products', value='Dairy_Products', inplace=True)\n",
    "names = list(p_df.CategoryName.unique())\n",
    "names\n"
   ]
  },
  {
   "cell_type": "code",
   "execution_count": 25,
   "metadata": {
    "scrolled": false
   },
   "outputs": [
    {
     "data": {
      "image/png": "[encoded data removed]",
      "text/plain": [
       "<Figure size 432x288 with 1 Axes>"
      ]
     },
     "metadata": {
      "needs_background": "light"
     },
     "output_type": "display_data"
    },
    {
     "data": {
      "image/png": "[encoded data removed]",
      "text/plain": [
       "<Figure size 432x288 with 1 Axes>"
      ]
     },
     "metadata": {
      "needs_background": "light"
     },
     "output_type": "display_data"
    },
    {
     "data": {
      "image/png": "[encoded data removed]",
      "text/plain": [
       "<Figure size 432x288 with 1 Axes>"
      ]
     },
     "metadata": {
      "needs_background": "light"
     },
     "output_type": "display_data"
    },
    {
     "data": {
      "image/png": "[encoded data removed]",
      "text/plain": [
       "<Figure size 432x288 with 1 Axes>"
      ]
     },
     "metadata": {
      "needs_background": "light"
     },
     "output_type": "display_data"
    },
    {
     "data": {
      "image/png": "[encoded data removed]",
      "text/plain": [
       "<Figure size 432x288 with 1 Axes>"
      ]
     },
     "metadata": {
      "needs_background": "light"
     },
     "output_type": "display_data"
    },
    {
     "data": {
      "image/png": "[encoded data removed]",
      "text/plain": [
       "<Figure size 432x288 with 1 Axes>"
      ]
     },
     "metadata": {
      "needs_background": "light"
     },
     "output_type": "display_data"
    },
    {
     "data": {
      "image/png": "[encoded data removed]",
      "text/plain": [
       "<Figure size 432x288 with 1 Axes>"
      ]
     },
     "metadata": {
      "needs_background": "light"
     },
     "output_type": "display_data"
    },
    {
     "data": {
      "image/png": "[encoded data removed]",
      "text/plain": [
       "<Figure size 432x288 with 1 Axes>"
      ]
     },
     "metadata": {
      "needs_background": "light"
     },
     "output_type": "display_data"
    }
   ],
   "source": [
    "#Test normality\n",
    "for n in names:\n",
    "    stats.probplot(p_df['GrossRevenue'][p_df['CategoryName'] == n], dist=\"norm\", plot=plt)\n",
    "    plt.title(\"Q-Q plot for Gross Revenue of {}\".format(n))\n",
    "    plt.show()"
   ]
  },
  {
   "cell_type": "code",
   "execution_count": 9,
   "metadata": {},
   "outputs": [
    {
     "data": {
      "text/plain": [
       "Beverages         381\n",
       "Dairy_Products    338\n",
       "Seafood           322\n",
       "Confections       316\n",
       "Condiments        208\n",
       "Grains/Cereals    189\n",
       "Meat/Poultry      147\n",
       "Produce           124\n",
       "Name: CategoryName, dtype: int64"
      ]
     },
     "execution_count": 9,
     "metadata": {},
     "output_type": "execute_result"
    }
   ],
   "source": [
    "p_df.CategoryName.value_counts()"
   ]
  },
  {
   "cell_type": "markdown",
   "metadata": {},
   "source": [
    "### Create Sampling Distribution"
   ]
  },
  {
   "cell_type": "markdown",
   "metadata": {},
   "source": [
    "The original data does not satisfy the normality assumption required for my hypothesis test. To address this, I use a **sampling distribution**. According to the **Central Limit Theorem**, the distribution of sample means is normal regardless of the distribution of the actual population. "
   ]
  },
  {
   "cell_type": "code",
   "execution_count": 10,
   "metadata": {},
   "outputs": [
    {
     "data": {
      "text/plain": [
       "(2025, 4)"
      ]
     },
     "execution_count": 10,
     "metadata": {},
     "output_type": "execute_result"
    }
   ],
   "source": [
    "p_df.shape"
   ]
  },
  {
   "cell_type": "code",
   "execution_count": 11,
   "metadata": {},
   "outputs": [],
   "source": [
    "# Create the sampling distributions for every product category\n",
    "category = []\n",
    "index = []\n",
    "gross_rev = []\n",
    "\n",
    "for cat in list(p_df.CategoryName.values):\n",
    "    for i in range(0,30):\n",
    "        category.append(cat)\n",
    "    a1 = list(p_df.GrossRevenue[(p_df.CategoryName == cat)].values)\n",
    "    a2 = create_sampling_distribution(a1, 30, 30)\n",
    "    index.append(a2)\n",
    "\n",
    "for i in index:\n",
    "    for e in i:\n",
    "        gross_rev.append(e)\n",
    "c1 = list(p_df.GrossRevenue.values)\n",
    "c2 = create_sampling_distribution(c1, 30, 30)\n"
   ]
  },
  {
   "cell_type": "code",
   "execution_count": 12,
   "metadata": {
    "scrolled": true
   },
   "outputs": [
    {
     "data": {
      "text/plain": [
       "60750"
      ]
     },
     "metadata": {},
     "output_type": "display_data"
    },
    {
     "data": {
      "text/plain": [
       "2025"
      ]
     },
     "metadata": {},
     "output_type": "display_data"
    },
    {
     "data": {
      "text/plain": [
       "60750"
      ]
     },
     "metadata": {},
     "output_type": "display_data"
    }
   ],
   "source": [
    "display(len(category))\n",
    "display(len(index))\n",
    "display(len(gross_rev))"
   ]
  },
  {
   "cell_type": "code",
   "execution_count": 13,
   "metadata": {},
   "outputs": [],
   "source": [
    "# Make a DataFrame of all sampling distributions\n",
    "samp_distributions = {}\n",
    "samp_distributions['CategoryName'] = category\n",
    "samp_distributions['Gross_Revenue'] = gross_rev\n",
    "samp_distributions_df = pd.DataFrame(samp_distributions)"
   ]
  },
  {
   "cell_type": "code",
   "execution_count": 14,
   "metadata": {},
   "outputs": [
    {
     "data": {
      "text/html": [
       "<div>\n",
       "<style scoped>\n",
       "    .dataframe tbody tr th:only-of-type {\n",
       "        vertical-align: middle;\n",
       "    }\n",
       "\n",
       "    .dataframe tbody tr th {\n",
       "        vertical-align: top;\n",
       "    }\n",
       "\n",
       "    .dataframe thead th {\n",
       "        text-align: right;\n",
       "    }\n",
       "</style>\n",
       "<table border=\"1\" class=\"dataframe\">\n",
       "  <thead>\n",
       "    <tr style=\"text-align: right;\">\n",
       "      <th></th>\n",
       "      <th>count</th>\n",
       "      <th>mean</th>\n",
       "      <th>std</th>\n",
       "      <th>min</th>\n",
       "      <th>25%</th>\n",
       "      <th>50%</th>\n",
       "      <th>75%</th>\n",
       "      <th>max</th>\n",
       "    </tr>\n",
       "    <tr>\n",
       "      <th>CategoryName</th>\n",
       "      <th></th>\n",
       "      <th></th>\n",
       "      <th></th>\n",
       "      <th></th>\n",
       "      <th></th>\n",
       "      <th></th>\n",
       "      <th></th>\n",
       "      <th></th>\n",
       "    </tr>\n",
       "  </thead>\n",
       "  <tbody>\n",
       "    <tr>\n",
       "      <th>Beverages</th>\n",
       "      <td>11430.0</td>\n",
       "      <td>325.126726</td>\n",
       "      <td>53.423098</td>\n",
       "      <td>164.241500</td>\n",
       "      <td>287.315333</td>\n",
       "      <td>322.477583</td>\n",
       "      <td>360.053292</td>\n",
       "      <td>552.135000</td>\n",
       "    </tr>\n",
       "    <tr>\n",
       "      <th>Condiments</th>\n",
       "      <td>6240.0</td>\n",
       "      <td>431.368808</td>\n",
       "      <td>57.974198</td>\n",
       "      <td>247.895917</td>\n",
       "      <td>390.994646</td>\n",
       "      <td>429.531792</td>\n",
       "      <td>470.094208</td>\n",
       "      <td>672.893167</td>\n",
       "    </tr>\n",
       "    <tr>\n",
       "      <th>Confections</th>\n",
       "      <td>9480.0</td>\n",
       "      <td>386.379985</td>\n",
       "      <td>58.048501</td>\n",
       "      <td>185.641467</td>\n",
       "      <td>345.353321</td>\n",
       "      <td>384.002067</td>\n",
       "      <td>425.183500</td>\n",
       "      <td>617.754550</td>\n",
       "    </tr>\n",
       "    <tr>\n",
       "      <th>Dairy_Products</th>\n",
       "      <td>10140.0</td>\n",
       "      <td>492.585939</td>\n",
       "      <td>69.711739</td>\n",
       "      <td>275.166333</td>\n",
       "      <td>443.961875</td>\n",
       "      <td>490.748833</td>\n",
       "      <td>539.156667</td>\n",
       "      <td>790.078333</td>\n",
       "    </tr>\n",
       "    <tr>\n",
       "      <th>Grains/Cereals</th>\n",
       "      <td>5670.0</td>\n",
       "      <td>415.995125</td>\n",
       "      <td>56.551656</td>\n",
       "      <td>234.960000</td>\n",
       "      <td>377.275833</td>\n",
       "      <td>415.116667</td>\n",
       "      <td>453.485750</td>\n",
       "      <td>635.514167</td>\n",
       "    </tr>\n",
       "    <tr>\n",
       "      <th>Meat/Poultry</th>\n",
       "      <td>4410.0</td>\n",
       "      <td>514.517987</td>\n",
       "      <td>72.295361</td>\n",
       "      <td>298.803500</td>\n",
       "      <td>465.265725</td>\n",
       "      <td>513.733742</td>\n",
       "      <td>562.715571</td>\n",
       "      <td>788.566400</td>\n",
       "    </tr>\n",
       "    <tr>\n",
       "      <th>Produce</th>\n",
       "      <td>3720.0</td>\n",
       "      <td>566.250416</td>\n",
       "      <td>68.750212</td>\n",
       "      <td>354.556583</td>\n",
       "      <td>519.910958</td>\n",
       "      <td>564.016792</td>\n",
       "      <td>612.677729</td>\n",
       "      <td>816.664333</td>\n",
       "    </tr>\n",
       "    <tr>\n",
       "      <th>Seafood</th>\n",
       "      <td>9660.0</td>\n",
       "      <td>353.892531</td>\n",
       "      <td>54.662896</td>\n",
       "      <td>192.291667</td>\n",
       "      <td>315.578604</td>\n",
       "      <td>351.622000</td>\n",
       "      <td>390.451146</td>\n",
       "      <td>589.537667</td>\n",
       "    </tr>\n",
       "  </tbody>\n",
       "</table>\n",
       "</div>"
      ],
      "text/plain": [
       "                  count        mean        std         min         25%  \\\n",
       "CategoryName                                                             \n",
       "Beverages       11430.0  325.126726  53.423098  164.241500  287.315333   \n",
       "Condiments       6240.0  431.368808  57.974198  247.895917  390.994646   \n",
       "Confections      9480.0  386.379985  58.048501  185.641467  345.353321   \n",
       "Dairy_Products  10140.0  492.585939  69.711739  275.166333  443.961875   \n",
       "Grains/Cereals   5670.0  415.995125  56.551656  234.960000  377.275833   \n",
       "Meat/Poultry     4410.0  514.517987  72.295361  298.803500  465.265725   \n",
       "Produce          3720.0  566.250416  68.750212  354.556583  519.910958   \n",
       "Seafood          9660.0  353.892531  54.662896  192.291667  315.578604   \n",
       "\n",
       "                       50%         75%         max  \n",
       "CategoryName                                        \n",
       "Beverages       322.477583  360.053292  552.135000  \n",
       "Condiments      429.531792  470.094208  672.893167  \n",
       "Confections     384.002067  425.183500  617.754550  \n",
       "Dairy_Products  490.748833  539.156667  790.078333  \n",
       "Grains/Cereals  415.116667  453.485750  635.514167  \n",
       "Meat/Poultry    513.733742  562.715571  788.566400  \n",
       "Produce         564.016792  612.677729  816.664333  \n",
       "Seafood         351.622000  390.451146  589.537667  "
      ]
     },
     "execution_count": 14,
     "metadata": {},
     "output_type": "execute_result"
    }
   ],
   "source": [
    "samp_distributions_df.Gross_Revenue.groupby(samp_distributions_df.CategoryName).describe()"
   ]
  },
  {
   "cell_type": "markdown",
   "metadata": {},
   "source": [
    "### ANOVA Test"
   ]
  },
  {
   "cell_type": "code",
   "execution_count": 15,
   "metadata": {
    "scrolled": true
   },
   "outputs": [
    {
     "data": {
      "text/html": [
       "<table class=\"simpletable\">\n",
       "<caption>OLS Regression Results</caption>\n",
       "<tr>\n",
       "  <th>Dep. Variable:</th>      <td>Gross_Revenue</td>  <th>  R-squared:         </th>  <td>   0.596</td>  \n",
       "</tr>\n",
       "<tr>\n",
       "  <th>Model:</th>                   <td>OLS</td>       <th>  Adj. R-squared:    </th>  <td>   0.596</td>  \n",
       "</tr>\n",
       "<tr>\n",
       "  <th>Method:</th>             <td>Least Squares</td>  <th>  F-statistic:       </th>  <td>1.278e+04</td> \n",
       "</tr>\n",
       "<tr>\n",
       "  <th>Date:</th>             <td>Thu, 18 Jul 2019</td> <th>  Prob (F-statistic):</th>   <td>  0.00</td>   \n",
       "</tr>\n",
       "<tr>\n",
       "  <th>Time:</th>                 <td>05:31:58</td>     <th>  Log-Likelihood:    </th> <td>-3.3544e+05</td>\n",
       "</tr>\n",
       "<tr>\n",
       "  <th>No. Observations:</th>      <td> 60750</td>      <th>  AIC:               </th>  <td>6.709e+05</td> \n",
       "</tr>\n",
       "<tr>\n",
       "  <th>Df Residuals:</th>          <td> 60742</td>      <th>  BIC:               </th>  <td>6.710e+05</td> \n",
       "</tr>\n",
       "<tr>\n",
       "  <th>Df Model:</th>              <td>     7</td>      <th>                     </th>      <td> </td>     \n",
       "</tr>\n",
       "<tr>\n",
       "  <th>Covariance Type:</th>      <td>nonrobust</td>    <th>                     </th>      <td> </td>     \n",
       "</tr>\n",
       "</table>\n",
       "<table class=\"simpletable\">\n",
       "<tr>\n",
       "                  <td></td>                     <th>coef</th>     <th>std err</th>      <th>t</th>      <th>P>|t|</th>  <th>[0.025</th>    <th>0.975]</th>  \n",
       "</tr>\n",
       "<tr>\n",
       "  <th>Intercept</th>                         <td>  325.1267</td> <td>    0.566</td> <td>  574.431</td> <td> 0.000</td> <td>  324.017</td> <td>  326.236</td>\n",
       "</tr>\n",
       "<tr>\n",
       "  <th>C(CategoryName)[T.Condiments]</th>     <td>  106.2421</td> <td>    0.952</td> <td>  111.547</td> <td> 0.000</td> <td>  104.375</td> <td>  108.109</td>\n",
       "</tr>\n",
       "<tr>\n",
       "  <th>C(CategoryName)[T.Confections]</th>    <td>   61.2533</td> <td>    0.841</td> <td>   72.869</td> <td> 0.000</td> <td>   59.606</td> <td>   62.901</td>\n",
       "</tr>\n",
       "<tr>\n",
       "  <th>C(CategoryName)[T.Dairy_Products]</th> <td>  167.4592</td> <td>    0.826</td> <td>  202.856</td> <td> 0.000</td> <td>  165.841</td> <td>  169.077</td>\n",
       "</tr>\n",
       "<tr>\n",
       "  <th>C(CategoryName)[T.Grains/Cereals]</th> <td>   90.8684</td> <td>    0.983</td> <td>   92.447</td> <td> 0.000</td> <td>   88.942</td> <td>   92.795</td>\n",
       "</tr>\n",
       "<tr>\n",
       "  <th>C(CategoryName)[T.Meat/Poultry]</th>   <td>  189.3913</td> <td>    1.073</td> <td>  176.558</td> <td> 0.000</td> <td>  187.289</td> <td>  191.494</td>\n",
       "</tr>\n",
       "<tr>\n",
       "  <th>C(CategoryName)[T.Produce]</th>        <td>  241.1237</td> <td>    1.142</td> <td>  211.101</td> <td> 0.000</td> <td>  238.885</td> <td>  243.362</td>\n",
       "</tr>\n",
       "<tr>\n",
       "  <th>C(CategoryName)[T.Seafood]</th>        <td>   28.7658</td> <td>    0.836</td> <td>   34.396</td> <td> 0.000</td> <td>   27.127</td> <td>   30.405</td>\n",
       "</tr>\n",
       "</table>\n",
       "<table class=\"simpletable\">\n",
       "<tr>\n",
       "  <th>Omnibus:</th>       <td>415.497</td> <th>  Durbin-Watson:     </th> <td>   1.996</td>\n",
       "</tr>\n",
       "<tr>\n",
       "  <th>Prob(Omnibus):</th> <td> 0.000</td>  <th>  Jarque-Bera (JB):  </th> <td> 429.295</td>\n",
       "</tr>\n",
       "<tr>\n",
       "  <th>Skew:</th>          <td> 0.192</td>  <th>  Prob(JB):          </th> <td>6.02e-94</td>\n",
       "</tr>\n",
       "<tr>\n",
       "  <th>Kurtosis:</th>      <td> 3.149</td>  <th>  Cond. No.          </th> <td>    7.57</td>\n",
       "</tr>\n",
       "</table><br/><br/>Warnings:<br/>[1] Standard Errors assume that the covariance matrix of the errors is correctly specified."
      ],
      "text/plain": [
       "<class 'statsmodels.iolib.summary.Summary'>\n",
       "\"\"\"\n",
       "                            OLS Regression Results                            \n",
       "==============================================================================\n",
       "Dep. Variable:          Gross_Revenue   R-squared:                       0.596\n",
       "Model:                            OLS   Adj. R-squared:                  0.596\n",
       "Method:                 Least Squares   F-statistic:                 1.278e+04\n",
       "Date:                Thu, 18 Jul 2019   Prob (F-statistic):               0.00\n",
       "Time:                        05:31:58   Log-Likelihood:            -3.3544e+05\n",
       "No. Observations:               60750   AIC:                         6.709e+05\n",
       "Df Residuals:                   60742   BIC:                         6.710e+05\n",
       "Df Model:                           7                                         \n",
       "Covariance Type:            nonrobust                                         \n",
       "=====================================================================================================\n",
       "                                        coef    std err          t      P>|t|      [0.025      0.975]\n",
       "-----------------------------------------------------------------------------------------------------\n",
       "Intercept                           325.1267      0.566    574.431      0.000     324.017     326.236\n",
       "C(CategoryName)[T.Condiments]       106.2421      0.952    111.547      0.000     104.375     108.109\n",
       "C(CategoryName)[T.Confections]       61.2533      0.841     72.869      0.000      59.606      62.901\n",
       "C(CategoryName)[T.Dairy_Products]   167.4592      0.826    202.856      0.000     165.841     169.077\n",
       "C(CategoryName)[T.Grains/Cereals]    90.8684      0.983     92.447      0.000      88.942      92.795\n",
       "C(CategoryName)[T.Meat/Poultry]     189.3913      1.073    176.558      0.000     187.289     191.494\n",
       "C(CategoryName)[T.Produce]          241.1237      1.142    211.101      0.000     238.885     243.362\n",
       "C(CategoryName)[T.Seafood]           28.7658      0.836     34.396      0.000      27.127      30.405\n",
       "==============================================================================\n",
       "Omnibus:                      415.497   Durbin-Watson:                   1.996\n",
       "Prob(Omnibus):                  0.000   Jarque-Bera (JB):              429.295\n",
       "Skew:                           0.192   Prob(JB):                     6.02e-94\n",
       "Kurtosis:                       3.149   Cond. No.                         7.57\n",
       "==============================================================================\n",
       "\n",
       "Warnings:\n",
       "[1] Standard Errors assume that the covariance matrix of the errors is correctly specified.\n",
       "\"\"\""
      ]
     },
     "execution_count": 15,
     "metadata": {},
     "output_type": "execute_result"
    }
   ],
   "source": [
    "#ANOVA Test\n",
    "formula = 'Gross_Revenue ~ C(CategoryName)'\n",
    "model = ols(formula=formula, data=samp_distributions_df).fit()\n",
    "model.summary()"
   ]
  },
  {
   "cell_type": "code",
   "execution_count": 16,
   "metadata": {},
   "outputs": [
    {
     "name": "stdout",
     "output_type": "stream",
     "text": [
      "                       sum_sq       df            F  PR(>F)\n",
      "C(CategoryName)  3.276516e+08      7.0  12783.17813     0.0\n",
      "Residual         2.224152e+08  60742.0          NaN     NaN\n"
     ]
    }
   ],
   "source": [
    "table = sm.stats.anova_lm(model, typ=2)\n",
    "print(table)"
   ]
  },
  {
   "cell_type": "markdown",
   "metadata": {},
   "source": [
    "## Compare Levels of Discount"
   ]
  },
  {
   "cell_type": "code",
   "execution_count": 17,
   "metadata": {
    "scrolled": true
   },
   "outputs": [],
   "source": [
    "# TUKEY TEST\n",
    "alpha = 0.05\n",
    "mc = MultiComparison(p_df['GrossRevenue'], p_df['CategoryName'])\n",
    "result = mc.tukeyhsd(alpha=alpha)"
   ]
  },
  {
   "cell_type": "code",
   "execution_count": 18,
   "metadata": {},
   "outputs": [
    {
     "name": "stdout",
     "output_type": "stream",
     "text": [
      "Multiple Comparison of Means - Tukey HSD\n"
     ]
    },
    {
     "data": {
      "text/html": [
       "<div>\n",
       "<style scoped>\n",
       "    .dataframe tbody tr th:only-of-type {\n",
       "        vertical-align: middle;\n",
       "    }\n",
       "\n",
       "    .dataframe tbody tr th {\n",
       "        vertical-align: top;\n",
       "    }\n",
       "\n",
       "    .dataframe thead th {\n",
       "        text-align: right;\n",
       "    }\n",
       "</style>\n",
       "<table border=\"1\" class=\"dataframe\">\n",
       "  <thead>\n",
       "    <tr style=\"text-align: right;\">\n",
       "      <th></th>\n",
       "      <th>group1</th>\n",
       "      <th>group2</th>\n",
       "      <th>meandiff</th>\n",
       "      <th>lower</th>\n",
       "      <th>upper</th>\n",
       "      <th>reject</th>\n",
       "    </tr>\n",
       "  </thead>\n",
       "  <tbody>\n",
       "    <tr>\n",
       "      <th>0</th>\n",
       "      <td>Beverages</td>\n",
       "      <td>Condiments</td>\n",
       "      <td>105.8448</td>\n",
       "      <td>13.0817</td>\n",
       "      <td>198.6079</td>\n",
       "      <td>True</td>\n",
       "    </tr>\n",
       "    <tr>\n",
       "      <th>1</th>\n",
       "      <td>Beverages</td>\n",
       "      <td>Confections</td>\n",
       "      <td>61.1297</td>\n",
       "      <td>-20.7398</td>\n",
       "      <td>142.9993</td>\n",
       "      <td>False</td>\n",
       "    </tr>\n",
       "    <tr>\n",
       "      <th>2</th>\n",
       "      <td>Beverages</td>\n",
       "      <td>Dairy_Products</td>\n",
       "      <td>167.2979</td>\n",
       "      <td>86.8980</td>\n",
       "      <td>247.6978</td>\n",
       "      <td>True</td>\n",
       "    </tr>\n",
       "    <tr>\n",
       "      <th>3</th>\n",
       "      <td>Beverages</td>\n",
       "      <td>Grains/Cereals</td>\n",
       "      <td>89.2157</td>\n",
       "      <td>-6.5160</td>\n",
       "      <td>184.9474</td>\n",
       "      <td>False</td>\n",
       "    </tr>\n",
       "    <tr>\n",
       "      <th>4</th>\n",
       "      <td>Beverages</td>\n",
       "      <td>Meat/Poultry</td>\n",
       "      <td>189.2800</td>\n",
       "      <td>84.8061</td>\n",
       "      <td>293.7539</td>\n",
       "      <td>True</td>\n",
       "    </tr>\n",
       "    <tr>\n",
       "      <th>5</th>\n",
       "      <td>Beverages</td>\n",
       "      <td>Produce</td>\n",
       "      <td>239.1433</td>\n",
       "      <td>127.8973</td>\n",
       "      <td>350.3892</td>\n",
       "      <td>True</td>\n",
       "    </tr>\n",
       "    <tr>\n",
       "      <th>6</th>\n",
       "      <td>Beverages</td>\n",
       "      <td>Seafood</td>\n",
       "      <td>28.4758</td>\n",
       "      <td>-52.9757</td>\n",
       "      <td>109.9273</td>\n",
       "      <td>False</td>\n",
       "    </tr>\n",
       "    <tr>\n",
       "      <th>7</th>\n",
       "      <td>Condiments</td>\n",
       "      <td>Confections</td>\n",
       "      <td>-44.7151</td>\n",
       "      <td>-140.7883</td>\n",
       "      <td>51.3581</td>\n",
       "      <td>False</td>\n",
       "    </tr>\n",
       "    <tr>\n",
       "      <th>8</th>\n",
       "      <td>Condiments</td>\n",
       "      <td>Dairy_Products</td>\n",
       "      <td>61.4531</td>\n",
       "      <td>-33.3708</td>\n",
       "      <td>156.2771</td>\n",
       "      <td>False</td>\n",
       "    </tr>\n",
       "    <tr>\n",
       "      <th>9</th>\n",
       "      <td>Condiments</td>\n",
       "      <td>Grains/Cereals</td>\n",
       "      <td>-16.6291</td>\n",
       "      <td>-124.7587</td>\n",
       "      <td>91.5005</td>\n",
       "      <td>False</td>\n",
       "    </tr>\n",
       "    <tr>\n",
       "      <th>10</th>\n",
       "      <td>Condiments</td>\n",
       "      <td>Meat/Poultry</td>\n",
       "      <td>83.4352</td>\n",
       "      <td>-32.5054</td>\n",
       "      <td>199.3758</td>\n",
       "      <td>False</td>\n",
       "    </tr>\n",
       "    <tr>\n",
       "      <th>11</th>\n",
       "      <td>Condiments</td>\n",
       "      <td>Produce</td>\n",
       "      <td>133.2985</td>\n",
       "      <td>11.2202</td>\n",
       "      <td>255.3768</td>\n",
       "      <td>True</td>\n",
       "    </tr>\n",
       "    <tr>\n",
       "      <th>12</th>\n",
       "      <td>Condiments</td>\n",
       "      <td>Seafood</td>\n",
       "      <td>-77.3690</td>\n",
       "      <td>-173.0863</td>\n",
       "      <td>18.3482</td>\n",
       "      <td>False</td>\n",
       "    </tr>\n",
       "    <tr>\n",
       "      <th>13</th>\n",
       "      <td>Confections</td>\n",
       "      <td>Dairy_Products</td>\n",
       "      <td>106.1682</td>\n",
       "      <td>21.9708</td>\n",
       "      <td>190.3656</td>\n",
       "      <td>True</td>\n",
       "    </tr>\n",
       "    <tr>\n",
       "      <th>14</th>\n",
       "      <td>Confections</td>\n",
       "      <td>Grains/Cereals</td>\n",
       "      <td>28.0860</td>\n",
       "      <td>-70.8566</td>\n",
       "      <td>127.0285</td>\n",
       "      <td>False</td>\n",
       "    </tr>\n",
       "    <tr>\n",
       "      <th>15</th>\n",
       "      <td>Confections</td>\n",
       "      <td>Meat/Poultry</td>\n",
       "      <td>128.1503</td>\n",
       "      <td>20.7266</td>\n",
       "      <td>235.5740</td>\n",
       "      <td>True</td>\n",
       "    </tr>\n",
       "    <tr>\n",
       "      <th>16</th>\n",
       "      <td>Confections</td>\n",
       "      <td>Produce</td>\n",
       "      <td>178.0135</td>\n",
       "      <td>63.9928</td>\n",
       "      <td>292.0343</td>\n",
       "      <td>True</td>\n",
       "    </tr>\n",
       "    <tr>\n",
       "      <th>17</th>\n",
       "      <td>Confections</td>\n",
       "      <td>Seafood</td>\n",
       "      <td>-32.6540</td>\n",
       "      <td>-117.8562</td>\n",
       "      <td>52.5482</td>\n",
       "      <td>False</td>\n",
       "    </tr>\n",
       "    <tr>\n",
       "      <th>18</th>\n",
       "      <td>Dairy_Products</td>\n",
       "      <td>Grains/Cereals</td>\n",
       "      <td>-78.0822</td>\n",
       "      <td>-175.8122</td>\n",
       "      <td>19.6478</td>\n",
       "      <td>False</td>\n",
       "    </tr>\n",
       "    <tr>\n",
       "      <th>19</th>\n",
       "      <td>Dairy_Products</td>\n",
       "      <td>Meat/Poultry</td>\n",
       "      <td>21.9821</td>\n",
       "      <td>-84.3259</td>\n",
       "      <td>128.2900</td>\n",
       "      <td>False</td>\n",
       "    </tr>\n",
       "    <tr>\n",
       "      <th>20</th>\n",
       "      <td>Dairy_Products</td>\n",
       "      <td>Produce</td>\n",
       "      <td>71.8453</td>\n",
       "      <td>-41.1248</td>\n",
       "      <td>184.8155</td>\n",
       "      <td>False</td>\n",
       "    </tr>\n",
       "    <tr>\n",
       "      <th>21</th>\n",
       "      <td>Dairy_Products</td>\n",
       "      <td>Seafood</td>\n",
       "      <td>-138.8222</td>\n",
       "      <td>-222.6132</td>\n",
       "      <td>-55.0311</td>\n",
       "      <td>True</td>\n",
       "    </tr>\n",
       "    <tr>\n",
       "      <th>22</th>\n",
       "      <td>Grains/Cereals</td>\n",
       "      <td>Meat/Poultry</td>\n",
       "      <td>100.0643</td>\n",
       "      <td>-18.2649</td>\n",
       "      <td>218.3935</td>\n",
       "      <td>False</td>\n",
       "    </tr>\n",
       "    <tr>\n",
       "      <th>23</th>\n",
       "      <td>Grains/Cereals</td>\n",
       "      <td>Produce</td>\n",
       "      <td>149.9276</td>\n",
       "      <td>25.5786</td>\n",
       "      <td>274.2766</td>\n",
       "      <td>True</td>\n",
       "    </tr>\n",
       "    <tr>\n",
       "      <th>24</th>\n",
       "      <td>Grains/Cereals</td>\n",
       "      <td>Seafood</td>\n",
       "      <td>-60.7399</td>\n",
       "      <td>-159.3369</td>\n",
       "      <td>37.8570</td>\n",
       "      <td>False</td>\n",
       "    </tr>\n",
       "    <tr>\n",
       "      <th>25</th>\n",
       "      <td>Meat/Poultry</td>\n",
       "      <td>Produce</td>\n",
       "      <td>49.8633</td>\n",
       "      <td>-81.3346</td>\n",
       "      <td>181.0612</td>\n",
       "      <td>False</td>\n",
       "    </tr>\n",
       "    <tr>\n",
       "      <th>26</th>\n",
       "      <td>Meat/Poultry</td>\n",
       "      <td>Seafood</td>\n",
       "      <td>-160.8042</td>\n",
       "      <td>-267.9097</td>\n",
       "      <td>-53.6988</td>\n",
       "      <td>True</td>\n",
       "    </tr>\n",
       "    <tr>\n",
       "      <th>27</th>\n",
       "      <td>Produce</td>\n",
       "      <td>Seafood</td>\n",
       "      <td>-210.6675</td>\n",
       "      <td>-324.3885</td>\n",
       "      <td>-96.9466</td>\n",
       "      <td>True</td>\n",
       "    </tr>\n",
       "  </tbody>\n",
       "</table>\n",
       "</div>"
      ],
      "text/plain": [
       "            group1          group2  meandiff     lower     upper  reject\n",
       "0        Beverages      Condiments  105.8448   13.0817  198.6079    True\n",
       "1        Beverages     Confections   61.1297  -20.7398  142.9993   False\n",
       "2        Beverages  Dairy_Products  167.2979   86.8980  247.6978    True\n",
       "3        Beverages  Grains/Cereals   89.2157   -6.5160  184.9474   False\n",
       "4        Beverages    Meat/Poultry  189.2800   84.8061  293.7539    True\n",
       "5        Beverages         Produce  239.1433  127.8973  350.3892    True\n",
       "6        Beverages         Seafood   28.4758  -52.9757  109.9273   False\n",
       "7       Condiments     Confections  -44.7151 -140.7883   51.3581   False\n",
       "8       Condiments  Dairy_Products   61.4531  -33.3708  156.2771   False\n",
       "9       Condiments  Grains/Cereals  -16.6291 -124.7587   91.5005   False\n",
       "10      Condiments    Meat/Poultry   83.4352  -32.5054  199.3758   False\n",
       "11      Condiments         Produce  133.2985   11.2202  255.3768    True\n",
       "12      Condiments         Seafood  -77.3690 -173.0863   18.3482   False\n",
       "13     Confections  Dairy_Products  106.1682   21.9708  190.3656    True\n",
       "14     Confections  Grains/Cereals   28.0860  -70.8566  127.0285   False\n",
       "15     Confections    Meat/Poultry  128.1503   20.7266  235.5740    True\n",
       "16     Confections         Produce  178.0135   63.9928  292.0343    True\n",
       "17     Confections         Seafood  -32.6540 -117.8562   52.5482   False\n",
       "18  Dairy_Products  Grains/Cereals  -78.0822 -175.8122   19.6478   False\n",
       "19  Dairy_Products    Meat/Poultry   21.9821  -84.3259  128.2900   False\n",
       "20  Dairy_Products         Produce   71.8453  -41.1248  184.8155   False\n",
       "21  Dairy_Products         Seafood -138.8222 -222.6132  -55.0311    True\n",
       "22  Grains/Cereals    Meat/Poultry  100.0643  -18.2649  218.3935   False\n",
       "23  Grains/Cereals         Produce  149.9276   25.5786  274.2766    True\n",
       "24  Grains/Cereals         Seafood  -60.7399 -159.3369   37.8570   False\n",
       "25    Meat/Poultry         Produce   49.8633  -81.3346  181.0612   False\n",
       "26    Meat/Poultry         Seafood -160.8042 -267.9097  -53.6988    True\n",
       "27         Produce         Seafood -210.6675 -324.3885  -96.9466    True"
      ]
     },
     "execution_count": 18,
     "metadata": {},
     "output_type": "execute_result"
    }
   ],
   "source": [
    "# Convert result to dataframe  \n",
    "# Null hypothesis - the means are equal\n",
    "tukey_df = pd.DataFrame(data=result._results_table.data[1:], \n",
    "                        columns=result._results_table.data[0])\n",
    "print(\"Multiple Comparison of Means - Tukey HSD\")\n",
    "tukey_df"
   ]
  },
  {
   "cell_type": "code",
   "execution_count": 19,
   "metadata": {},
   "outputs": [
    {
     "data": {
      "text/plain": [
       "array(['Dairy Products', 'Grains/Cereals', 'Produce', 'Seafood',\n",
       "       'Condiments', 'Confections', 'Beverages', 'Meat/Poultry'],\n",
       "      dtype=object)"
      ]
     },
     "execution_count": 19,
     "metadata": {},
     "output_type": "execute_result"
    }
   ],
   "source": [
    "category_names = product_df['CategoryName'].unique()\n",
    "category_names"
   ]
  },
  {
   "cell_type": "code",
   "execution_count": 20,
   "metadata": {},
   "outputs": [],
   "source": [
    "category_combinations = itertools.combinations(category_names, 2)"
   ]
  },
  {
   "cell_type": "code",
   "execution_count": 21,
   "metadata": {},
   "outputs": [],
   "source": [
    "# T-test for quantity average sales revenue per order from each region\n",
    "category_sales_combo_df = pd.DataFrame(columns = ['Category 1','Category 2','p-value',\n",
    "                                                      'Reject Null?', 'Category 1 Sales Mean', 'Category 2 Sales Mean',\n",
    "                                                      'Difference of Means', 'Cohens d'])\n",
    "\n",
    "for combo in category_combinations:\n",
    "    \n",
    "    samp1_control = p_df[p_df['CategoryName']==combo[0]]['GrossRevenue']\n",
    "    samp2_experimental = p_df[p_df['CategoryName']==combo[1]]['GrossRevenue']\n",
    "    \n",
    "    s1mean = p_df[p_df['CategoryName']==combo[0]]['GrossRevenue'].mean()\n",
    "    s2mean = p_df[p_df['CategoryName']==combo[1]]['GrossRevenue'].mean()\n",
    "    \n",
    "    t_stat, p_val = stats.ttest_ind(samp1_control, samp2_experimental)\n",
    "    diff_mean = round(samp1_control.mean() - samp2_experimental.mean(),2)\n",
    "    effect_size_cohen = round(Cohen_d(samp1_control, samp2_experimental),3)\n",
    "    \n",
    "    p_val = p_val / 2 # for one tailed test\n",
    "    \n",
    "    category_sales_combo_df = category_sales_combo_df.append({'Category 1' : combo[0], 'Category 2': combo[1], \n",
    "                                                 'p-value': p_val, 'Reject Null?': \"Yes, Reject\" if p_val < 0.05 else \"No, Fail to Reject\",\n",
    "                                                           'Category 1 Sales Mean': s1mean, 'Category 2 Sales Mean': s2mean,\n",
    "                                                 'Difference of Means': diff_mean, 'Cohens d': effect_size_cohen}, ignore_index=True)"
   ]
  },
  {
   "cell_type": "code",
   "execution_count": 22,
   "metadata": {},
   "outputs": [
    {
     "data": {
      "text/html": [
       "<div>\n",
       "<style scoped>\n",
       "    .dataframe tbody tr th:only-of-type {\n",
       "        vertical-align: middle;\n",
       "    }\n",
       "\n",
       "    .dataframe tbody tr th {\n",
       "        vertical-align: top;\n",
       "    }\n",
       "\n",
       "    .dataframe thead th {\n",
       "        text-align: right;\n",
       "    }\n",
       "</style>\n",
       "<table border=\"1\" class=\"dataframe\">\n",
       "  <thead>\n",
       "    <tr style=\"text-align: right;\">\n",
       "      <th></th>\n",
       "      <th>Category 1</th>\n",
       "      <th>Category 2</th>\n",
       "      <th>p-value</th>\n",
       "      <th>Reject Null?</th>\n",
       "      <th>Category 1 Sales Mean</th>\n",
       "      <th>Category 2 Sales Mean</th>\n",
       "      <th>Difference of Means</th>\n",
       "      <th>Cohens d</th>\n",
       "    </tr>\n",
       "  </thead>\n",
       "  <tbody>\n",
       "    <tr>\n",
       "      <th>0</th>\n",
       "      <td>Dairy Products</td>\n",
       "      <td>Grains/Cereals</td>\n",
       "      <td>NaN</td>\n",
       "      <td>No, Fail to Reject</td>\n",
       "      <td>NaN</td>\n",
       "      <td>414.349669</td>\n",
       "      <td>NaN</td>\n",
       "      <td>NaN</td>\n",
       "    </tr>\n",
       "    <tr>\n",
       "      <th>1</th>\n",
       "      <td>Dairy Products</td>\n",
       "      <td>Produce</td>\n",
       "      <td>NaN</td>\n",
       "      <td>No, Fail to Reject</td>\n",
       "      <td>NaN</td>\n",
       "      <td>564.277258</td>\n",
       "      <td>NaN</td>\n",
       "      <td>NaN</td>\n",
       "    </tr>\n",
       "    <tr>\n",
       "      <th>2</th>\n",
       "      <td>Dairy Products</td>\n",
       "      <td>Seafood</td>\n",
       "      <td>NaN</td>\n",
       "      <td>No, Fail to Reject</td>\n",
       "      <td>NaN</td>\n",
       "      <td>353.609744</td>\n",
       "      <td>NaN</td>\n",
       "      <td>NaN</td>\n",
       "    </tr>\n",
       "    <tr>\n",
       "      <th>3</th>\n",
       "      <td>Dairy Products</td>\n",
       "      <td>Condiments</td>\n",
       "      <td>NaN</td>\n",
       "      <td>No, Fail to Reject</td>\n",
       "      <td>NaN</td>\n",
       "      <td>430.978774</td>\n",
       "      <td>NaN</td>\n",
       "      <td>NaN</td>\n",
       "    </tr>\n",
       "    <tr>\n",
       "      <th>4</th>\n",
       "      <td>Dairy Products</td>\n",
       "      <td>Confections</td>\n",
       "      <td>NaN</td>\n",
       "      <td>No, Fail to Reject</td>\n",
       "      <td>NaN</td>\n",
       "      <td>386.263718</td>\n",
       "      <td>NaN</td>\n",
       "      <td>NaN</td>\n",
       "    </tr>\n",
       "  </tbody>\n",
       "</table>\n",
       "</div>"
      ],
      "text/plain": [
       "       Category 1      Category 2  p-value        Reject Null?  \\\n",
       "0  Dairy Products  Grains/Cereals      NaN  No, Fail to Reject   \n",
       "1  Dairy Products         Produce      NaN  No, Fail to Reject   \n",
       "2  Dairy Products         Seafood      NaN  No, Fail to Reject   \n",
       "3  Dairy Products      Condiments      NaN  No, Fail to Reject   \n",
       "4  Dairy Products     Confections      NaN  No, Fail to Reject   \n",
       "\n",
       "   Category 1 Sales Mean  Category 2 Sales Mean  Difference of Means  Cohens d  \n",
       "0                    NaN             414.349669                  NaN       NaN  \n",
       "1                    NaN             564.277258                  NaN       NaN  \n",
       "2                    NaN             353.609744                  NaN       NaN  \n",
       "3                    NaN             430.978774                  NaN       NaN  \n",
       "4                    NaN             386.263718                  NaN       NaN  "
      ]
     },
     "execution_count": 22,
     "metadata": {},
     "output_type": "execute_result"
    }
   ],
   "source": [
    "category_sales_combo_df.head()"
   ]
  },
  {
   "cell_type": "code",
   "execution_count": 23,
   "metadata": {},
   "outputs": [
    {
     "data": {
      "text/html": [
       "<div>\n",
       "<style scoped>\n",
       "    .dataframe tbody tr th:only-of-type {\n",
       "        vertical-align: middle;\n",
       "    }\n",
       "\n",
       "    .dataframe tbody tr th {\n",
       "        vertical-align: top;\n",
       "    }\n",
       "\n",
       "    .dataframe thead th {\n",
       "        text-align: right;\n",
       "    }\n",
       "</style>\n",
       "<table border=\"1\" class=\"dataframe\">\n",
       "  <thead>\n",
       "    <tr style=\"text-align: right;\">\n",
       "      <th></th>\n",
       "      <th>Category 1</th>\n",
       "      <th>Category 2</th>\n",
       "      <th>p-value</th>\n",
       "      <th>Reject Null?</th>\n",
       "      <th>Category 1 Sales Mean</th>\n",
       "      <th>Category 2 Sales Mean</th>\n",
       "      <th>Difference of Means</th>\n",
       "      <th>Cohens d</th>\n",
       "    </tr>\n",
       "  </thead>\n",
       "  <tbody>\n",
       "    <tr>\n",
       "      <th>7</th>\n",
       "      <td>Grains/Cereals</td>\n",
       "      <td>Produce</td>\n",
       "      <td>3.460296e-04</td>\n",
       "      <td>Yes, Reject</td>\n",
       "      <td>414.349669</td>\n",
       "      <td>564.277258</td>\n",
       "      <td>-149.93</td>\n",
       "      <td>0.397</td>\n",
       "    </tr>\n",
       "    <tr>\n",
       "      <th>8</th>\n",
       "      <td>Grains/Cereals</td>\n",
       "      <td>Seafood</td>\n",
       "      <td>2.104625e-02</td>\n",
       "      <td>Yes, Reject</td>\n",
       "      <td>414.349669</td>\n",
       "      <td>353.609744</td>\n",
       "      <td>60.74</td>\n",
       "      <td>0.187</td>\n",
       "    </tr>\n",
       "    <tr>\n",
       "      <th>11</th>\n",
       "      <td>Grains/Cereals</td>\n",
       "      <td>Beverages</td>\n",
       "      <td>7.955106e-04</td>\n",
       "      <td>Yes, Reject</td>\n",
       "      <td>414.349669</td>\n",
       "      <td>325.133976</td>\n",
       "      <td>89.22</td>\n",
       "      <td>0.283</td>\n",
       "    </tr>\n",
       "    <tr>\n",
       "      <th>12</th>\n",
       "      <td>Grains/Cereals</td>\n",
       "      <td>Meat/Poultry</td>\n",
       "      <td>9.693839e-03</td>\n",
       "      <td>Yes, Reject</td>\n",
       "      <td>414.349669</td>\n",
       "      <td>514.413976</td>\n",
       "      <td>-100.06</td>\n",
       "      <td>0.259</td>\n",
       "    </tr>\n",
       "    <tr>\n",
       "      <th>13</th>\n",
       "      <td>Produce</td>\n",
       "      <td>Seafood</td>\n",
       "      <td>1.357563e-08</td>\n",
       "      <td>Yes, Reject</td>\n",
       "      <td>564.277258</td>\n",
       "      <td>353.609744</td>\n",
       "      <td>210.67</td>\n",
       "      <td>0.600</td>\n",
       "    </tr>\n",
       "    <tr>\n",
       "      <th>14</th>\n",
       "      <td>Produce</td>\n",
       "      <td>Condiments</td>\n",
       "      <td>1.090747e-03</td>\n",
       "      <td>Yes, Reject</td>\n",
       "      <td>564.277258</td>\n",
       "      <td>430.978774</td>\n",
       "      <td>133.30</td>\n",
       "      <td>0.351</td>\n",
       "    </tr>\n",
       "    <tr>\n",
       "      <th>15</th>\n",
       "      <td>Produce</td>\n",
       "      <td>Confections</td>\n",
       "      <td>2.549327e-06</td>\n",
       "      <td>Yes, Reject</td>\n",
       "      <td>564.277258</td>\n",
       "      <td>386.263718</td>\n",
       "      <td>178.01</td>\n",
       "      <td>0.490</td>\n",
       "    </tr>\n",
       "    <tr>\n",
       "      <th>16</th>\n",
       "      <td>Produce</td>\n",
       "      <td>Beverages</td>\n",
       "      <td>1.347650e-11</td>\n",
       "      <td>Yes, Reject</td>\n",
       "      <td>564.277258</td>\n",
       "      <td>325.133976</td>\n",
       "      <td>239.14</td>\n",
       "      <td>0.706</td>\n",
       "    </tr>\n",
       "    <tr>\n",
       "      <th>18</th>\n",
       "      <td>Seafood</td>\n",
       "      <td>Condiments</td>\n",
       "      <td>4.193342e-03</td>\n",
       "      <td>Yes, Reject</td>\n",
       "      <td>353.609744</td>\n",
       "      <td>430.978774</td>\n",
       "      <td>-77.37</td>\n",
       "      <td>0.236</td>\n",
       "    </tr>\n",
       "    <tr>\n",
       "      <th>21</th>\n",
       "      <td>Seafood</td>\n",
       "      <td>Meat/Poultry</td>\n",
       "      <td>4.600518e-06</td>\n",
       "      <td>Yes, Reject</td>\n",
       "      <td>353.609744</td>\n",
       "      <td>514.413976</td>\n",
       "      <td>-160.80</td>\n",
       "      <td>0.447</td>\n",
       "    </tr>\n",
       "    <tr>\n",
       "      <th>23</th>\n",
       "      <td>Condiments</td>\n",
       "      <td>Beverages</td>\n",
       "      <td>6.745858e-05</td>\n",
       "      <td>Yes, Reject</td>\n",
       "      <td>430.978774</td>\n",
       "      <td>325.133976</td>\n",
       "      <td>105.84</td>\n",
       "      <td>0.332</td>\n",
       "    </tr>\n",
       "    <tr>\n",
       "      <th>24</th>\n",
       "      <td>Condiments</td>\n",
       "      <td>Meat/Poultry</td>\n",
       "      <td>2.351547e-02</td>\n",
       "      <td>Yes, Reject</td>\n",
       "      <td>430.978774</td>\n",
       "      <td>514.413976</td>\n",
       "      <td>-83.44</td>\n",
       "      <td>0.215</td>\n",
       "    </tr>\n",
       "    <tr>\n",
       "      <th>25</th>\n",
       "      <td>Confections</td>\n",
       "      <td>Beverages</td>\n",
       "      <td>5.825194e-03</td>\n",
       "      <td>Yes, Reject</td>\n",
       "      <td>386.263718</td>\n",
       "      <td>325.133976</td>\n",
       "      <td>61.13</td>\n",
       "      <td>0.193</td>\n",
       "    </tr>\n",
       "    <tr>\n",
       "      <th>26</th>\n",
       "      <td>Confections</td>\n",
       "      <td>Meat/Poultry</td>\n",
       "      <td>2.965656e-04</td>\n",
       "      <td>Yes, Reject</td>\n",
       "      <td>386.263718</td>\n",
       "      <td>514.413976</td>\n",
       "      <td>-128.15</td>\n",
       "      <td>0.346</td>\n",
       "    </tr>\n",
       "    <tr>\n",
       "      <th>27</th>\n",
       "      <td>Beverages</td>\n",
       "      <td>Meat/Poultry</td>\n",
       "      <td>1.619482e-08</td>\n",
       "      <td>Yes, Reject</td>\n",
       "      <td>325.133976</td>\n",
       "      <td>514.413976</td>\n",
       "      <td>-189.28</td>\n",
       "      <td>0.546</td>\n",
       "    </tr>\n",
       "  </tbody>\n",
       "</table>\n",
       "</div>"
      ],
      "text/plain": [
       "        Category 1    Category 2       p-value Reject Null?  \\\n",
       "7   Grains/Cereals       Produce  3.460296e-04  Yes, Reject   \n",
       "8   Grains/Cereals       Seafood  2.104625e-02  Yes, Reject   \n",
       "11  Grains/Cereals     Beverages  7.955106e-04  Yes, Reject   \n",
       "12  Grains/Cereals  Meat/Poultry  9.693839e-03  Yes, Reject   \n",
       "13         Produce       Seafood  1.357563e-08  Yes, Reject   \n",
       "14         Produce    Condiments  1.090747e-03  Yes, Reject   \n",
       "15         Produce   Confections  2.549327e-06  Yes, Reject   \n",
       "16         Produce     Beverages  1.347650e-11  Yes, Reject   \n",
       "18         Seafood    Condiments  4.193342e-03  Yes, Reject   \n",
       "21         Seafood  Meat/Poultry  4.600518e-06  Yes, Reject   \n",
       "23      Condiments     Beverages  6.745858e-05  Yes, Reject   \n",
       "24      Condiments  Meat/Poultry  2.351547e-02  Yes, Reject   \n",
       "25     Confections     Beverages  5.825194e-03  Yes, Reject   \n",
       "26     Confections  Meat/Poultry  2.965656e-04  Yes, Reject   \n",
       "27       Beverages  Meat/Poultry  1.619482e-08  Yes, Reject   \n",
       "\n",
       "    Category 1 Sales Mean  Category 2 Sales Mean  Difference of Means  \\\n",
       "7              414.349669             564.277258              -149.93   \n",
       "8              414.349669             353.609744                60.74   \n",
       "11             414.349669             325.133976                89.22   \n",
       "12             414.349669             514.413976              -100.06   \n",
       "13             564.277258             353.609744               210.67   \n",
       "14             564.277258             430.978774               133.30   \n",
       "15             564.277258             386.263718               178.01   \n",
       "16             564.277258             325.133976               239.14   \n",
       "18             353.609744             430.978774               -77.37   \n",
       "21             353.609744             514.413976              -160.80   \n",
       "23             430.978774             325.133976               105.84   \n",
       "24             430.978774             514.413976               -83.44   \n",
       "25             386.263718             325.133976                61.13   \n",
       "26             386.263718             514.413976              -128.15   \n",
       "27             325.133976             514.413976              -189.28   \n",
       "\n",
       "    Cohens d  \n",
       "7      0.397  \n",
       "8      0.187  \n",
       "11     0.283  \n",
       "12     0.259  \n",
       "13     0.600  \n",
       "14     0.351  \n",
       "15     0.490  \n",
       "16     0.706  \n",
       "18     0.236  \n",
       "21     0.447  \n",
       "23     0.332  \n",
       "24     0.215  \n",
       "25     0.193  \n",
       "26     0.346  \n",
       "27     0.546  "
      ]
     },
     "execution_count": 23,
     "metadata": {},
     "output_type": "execute_result"
    }
   ],
   "source": [
    "category_sales_combo_df[category_sales_combo_df['Reject Null?'] == \"Yes, Reject\"]"
   ]
  },
  {
   "cell_type": "code",
   "execution_count": 24,
   "metadata": {},
   "outputs": [
    {
     "data": {
      "image/png": "[encoded data removed]",
      "text/plain": [
       "<Figure size 432x288 with 1 Axes>"
      ]
     },
     "metadata": {
      "needs_background": "light"
     },
     "output_type": "display_data"
    }
   ],
   "source": [
    "# Visualize data by discount level with boxplots\n",
    "sns.boxplot(x='CategoryName', y='GrossRevenue', data=p_df)\n",
    "plt.title('Quantity Ordered by Category', fontsize = 20)\n",
    "plt.xlabel('Category', fontsize = 16)\n",
    "plt.ylabel('Gross Revenue', fontsize = 16)\n",
    "plt.xticks(rotation='vertical')\n",
    "plt.show()"
   ]
  },
  {
   "cell_type": "markdown",
   "metadata": {},
   "source": [
    "## Results"
   ]
  },
  {
   "cell_type": "markdown",
   "metadata": {},
   "source": [
    "The two categories that bring in the highest average gross revenue are Meat/Poultry and Produce. Beverages have the lowest average gross revenue but also the most outliers. Seafood also had low average gross revenue. The largest effect size is between Produce and Beverages."
   ]
  },
  {
   "cell_type": "markdown",
   "metadata": {},
   "source": [
    "## Recommendations"
   ]
  },
  {
   "cell_type": "markdown",
   "metadata": {},
   "source": [
    "I recommend that Northwinds focus their sales efforts toward products in the categories of Produce and Meat/Poultry as these categories bring in the highest average gross revenue. "
   ]
  }
 ],
 "metadata": {
  "kernelspec": {
   "display_name": "Python [conda env:learn-env] *",
   "language": "python",
   "name": "conda-env-learn-env-py"
  },
  "language_info": {
   "codemirror_mode": {
    "name": "ipython",
    "version": 3
   },
   "file_extension": ".py",
   "mimetype": "text/x-python",
   "name": "python",
   "nbconvert_exporter": "python",
   "pygments_lexer": "ipython3",
   "version": "3.6.6"
  }
 },
 "nbformat": 4,
 "nbformat_minor": 2
}
