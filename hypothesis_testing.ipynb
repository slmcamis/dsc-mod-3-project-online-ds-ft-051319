{
 "cells": [
  {
   "cell_type": "code",
   "execution_count": 1,
   "metadata": {},
   "outputs": [],
   "source": [
    "def cohens_d(group1, group2):\n",
    "    \n",
    "    \"\"\"Return Cohen's d to evaluate effect size\n",
    "    Cohen's d = difference between means of two groups \n",
    "    divided by their pooled standard deviation\n",
    "    0.2 = small effect\n",
    "    0.5 = medium effect\n",
    "    0.8 large effect\n",
    "    \n",
    "    Parameters:\n",
    "    group1 (array) : array of numbers\n",
    "    group2 (array) : array of numbers\n",
    "    \n",
    "    Return:\n",
    "    d : Cohen's D (Effect Size)\n",
    "    \"\"\"\n",
    "    numer = group1.mean() - group2.mean()\n",
    "    n1, n2 = len(group1), len(group2)\n",
    "    var1, var2 = group1.var(), group2.var()\n",
    "    pooled_var = (n1 * var1 + n2 * var2) / (n1 + n2)\n",
    "    denom = np.sqrt(pooled_var)\n",
    "    return numer / denom"
   ]
  },
  {
   "cell_type": "code",
   "execution_count": 9,
   "metadata": {},
   "outputs": [],
   "source": [
    "def bootstrap(data, n):\n",
    "    \"\"\"\n",
    "    Creates a bootstrap resample - with replacement\n",
    "    \n",
    "    Parameters:\n",
    "    data\n",
    "    n - sample size\n",
    "    \"\"\"\n",
    "    return np.random.choice(data, size=n, replace=True)"
   ]
  },
  {
   "cell_type": "code",
   "execution_count": 3,
   "metadata": {},
   "outputs": [],
   "source": [
    "def create_sampling_distribution(data, dist_size=30, n=30):\n",
    "    \"\"\"\n",
    "    Creates sampling distribution\n",
    "    Parameters:\n",
    "    - data : original dataset\n",
    "    - dist_size : number of samples to generate\n",
    "    - n : size of each sample\n",
    "\n",
    "    Returns:\n",
    "    - sampling distribution of sample means\n",
    "    \"\"\"\n",
    "    sample_distr = []\n",
    "    np.random.seed(5)   #so tests are reproducible\n",
    "    for i in range(0,dist_size):\n",
    "        sample = []\n",
    "        i_list = list(np.random.randint(0,len(data),n))\n",
    "        for item in i_list:\n",
    "            sample.append(data[item])\n",
    "        sample_distr.append(np.mean(sample))\n",
    "    return sample_distr"
   ]
  },
  {
   "cell_type": "code",
   "execution_count": 4,
   "metadata": {},
   "outputs": [],
   "source": [
    "def welch_t(a, b):\n",
    "    \"\"\"\n",
    "    Calculate Welch's t statistic for two samples\n",
    "    \"\"\"\n",
    "    numerator = np.mean(a) - np.mean(b)\n",
    "    denominator = np.sqrt(np.var(a, ddof=1)/len(a) + np.var(b, ddof=1)/np.size(b))\n",
    "    return abs(numerator/denominator)"
   ]
  },
  {
   "cell_type": "code",
   "execution_count": 10,
   "metadata": {},
   "outputs": [],
   "source": [
    "def welch_df(a, b):\n",
    "    \"\"\" \n",
    "    Calculate the effective degrees of freedom for two samples. \n",
    "    \"\"\"\n",
    "    num = (np.var(a, ddof=1)/np.size(a) + np.var(b, ddof=1)/np.size(b))**2\n",
    "    denom = (((np.var(a, ddof=1)**2) / (((np.size(a))**2) * (np.size(a)-1)))\n",
    "             + ((np.var(b, ddof=1)**2) / (((np.size(b))**2) * (np.size(b)-1))))\n",
    "    return num/denom"
   ]
  },
  {
   "cell_type": "code",
   "execution_count": 11,
   "metadata": {},
   "outputs": [],
   "source": [
    "def p_value(a, b, two_sided=False):\n",
    "    \"\"\"\n",
    "    Returns the p-value from a Welch's t-test given two datasets (lists, arrays, or series).\n",
    "    \"\"\"\n",
    "    t = welch_t(a,b)\n",
    "    df = welch_df(a,b)\n",
    "    p = 1 - stats.t.cdf(t, df)\n",
    "    if two_sided:\n",
    "        p += p\n",
    "    return p"
   ]
  },
  {
   "cell_type": "code",
   "execution_count": 7,
   "metadata": {},
   "outputs": [],
   "source": [
    "def Cohen_d(group1, group2):\n",
    "    \"\"\"\n",
    "    Return Cohen's d to evaluate effect size\n",
    "    Cohen's d = difference between means of two groups \n",
    "    divided by their pooled standard deviation\n",
    "    \n",
    "    0.2 = small effect\n",
    "    0.5 = medium effect\n",
    "    0.8 large effect\n",
    "    \n",
    "    Parameters:\n",
    "    group1 (array) : series or array\n",
    "    group2 (array) : series or array\n",
    "    \n",
    "    Return:\n",
    "    d : Cohen's D (Effect Size)\n",
    "    \"\"\"\n",
    "    diff = np.abs(np.mean(group1) - np.mean(group2))\n",
    "    n1, n2 = len(group1), len(group2)\n",
    "    var1 = np.var(group1)\n",
    "    var2 = np.var(group2)\n",
    "    # Calculate the pooled threshold as shown earlier\n",
    "    pooled_var = (n1 * var1 + n2 * var2) / (n1 + n2)\n",
    "    # Calculate Cohen's d statistic\n",
    "    d = diff / np.sqrt(pooled_var)    \n",
    "    return d"
   ]
  },
  {
   "cell_type": "code",
   "execution_count": 8,
   "metadata": {},
   "outputs": [],
   "source": [
    "def remove_outliers(df, col):\n",
    "    \"\"\"\n",
    "    Removes outliers from dataframe column that \n",
    "    are more that two standard deviations away \n",
    "    from the mean.\n",
    "    \n",
    "    Parameters:\n",
    "    df: datafame\n",
    "    col: column\n",
    "    \n",
    "    Returns:\n",
    "    dataframe with outliers removed\n",
    "    \"\"\"\n",
    "    q1 = df[col].quantile(0.25)\n",
    "    q3 = df[col].quantile(0.75)\n",
    "    iqr = q3 - q1\n",
    "    lower_bound  = q1 - (2 * iqr)\n",
    "    upper_bound = q3 + (2 * iqr)\n",
    "    out_df = df.loc[(df[col] > lower_bound) \n",
    "                    & (df[col] < upper_bound)]\n",
    "    return out_df"
   ]
  },
  {
   "cell_type": "code",
   "execution_count": null,
   "metadata": {},
   "outputs": [],
   "source": []
  }
 ],
 "metadata": {
  "kernelspec": {
   "display_name": "Python [conda env:learn-env] *",
   "language": "python",
   "name": "conda-env-learn-env-py"
  },
  "language_info": {
   "codemirror_mode": {
    "name": "ipython",
    "version": 3
   },
   "file_extension": ".py",
   "mimetype": "text/x-python",
   "name": "python",
   "nbconvert_exporter": "python",
   "pygments_lexer": "ipython3",
   "version": "3.6.6"
  }
 },
 "nbformat": 4,
 "nbformat_minor": 2
}
